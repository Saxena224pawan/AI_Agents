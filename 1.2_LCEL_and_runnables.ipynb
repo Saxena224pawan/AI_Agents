{
 "cells": [
  {
   "cell_type": "markdown",
   "metadata": {},
   "source": [
    "- How do we put 3 chains together?\n",
    "- What is chain underneath the hood?\n",
    "- Runnables in Langchain"
   ]
  },
  {
   "cell_type": "code",
   "execution_count": 1,
   "metadata": {},
   "outputs": [],
   "source": [
    "from langchain_openai import ChatOpenAI\n",
    "from langchain_core.prompts import ChatPromptTemplate\n",
    "from langchain_core.output_parsers import StrOutputParser\n",
    "from IPython.display import Markdown"
   ]
  },
  {
   "cell_type": "code",
   "execution_count": 3,
   "metadata": {},
   "outputs": [],
   "source": [
    "import os\n",
    "import yaml\n",
    "\n",
    "# Load the YAML file\n",
    "def load_api_key(yml_file):\n",
    "    with open(yml_file, 'r') as file:\n",
    "        config = yaml.safe_load(file)  # Safely load the YAML file\n",
    "        return config.get('openai_key')  # Retrieve the 'api_key'\n",
    "\n",
    "# Usage\n",
    "\n",
    "os.environ['OPENAI_API_KEY'] =load_api_key('chatgpt_api_credentials.yml')"
   ]
  },
  {
   "cell_type": "code",
   "execution_count": 4,
   "metadata": {},
   "outputs": [
    {
     "data": {
      "text/markdown": [
       "Here are five key points summarizing the important aspects of Stable Diffusion architecture:\n",
       "\n",
       "1. **Latent Diffusion Model (LDM)**: Stable Diffusion utilizes a latent diffusion model, which compresses images into a lower-dimensional latent space, allowing for efficient processing and generation of high-quality images while significantly reducing computational resource requirements.\n",
       "\n",
       "2. **Denoising Process**: The architecture employs a denoising autoencoder framework, where a noise-based generative process iteratively refines random noise into coherent images by progressively denoising them through learned representations.\n",
       "\n",
       "3. **Conditional Generation**: Stable Diffusion supports conditional image generation by incorporating various input modalities, such as text prompts, enabling the model to produce images that align closely with specified descriptions or themes.\n",
       "\n",
       "4. **Cross-Attention Mechanism**: The architecture features a cross-attention mechanism, allowing the model to effectively integrate information from different input sources (e.g., text and image features) during the generation process, enhancing the relevance and quality of the output images.\n",
       "\n",
       "5. **Scalability and Flexibility**: Stable Diffusion is designed to be scalable, allowing users to fine-tune the model on specific datasets or applications, and can be adapted for a variety of tasks beyond image generation, such as inpainting or super-resolution."
      ],
      "text/plain": [
       "<IPython.core.display.Markdown object>"
      ]
     },
     "execution_count": 4,
     "metadata": {},
     "output_type": "execute_result"
    }
   ],
   "source": [
    "llm = ChatOpenAI(model='gpt-4o-mini')\n",
    "\n",
    "prompt = ChatPromptTemplate.from_messages([\n",
    "    ('system','You are a research assistant'),\n",
    "    ('user','{input}')\n",
    "])\n",
    "\n",
    "output_parser = StrOutputParser()\n",
    "\n",
    "basic_chain = prompt |  llm | output_parser\n",
    "\n",
    "output = basic_chain.invoke('Write 5 bullet points summarizing important points of Stable diffusion architecture.')\n",
    "\n",
    "Markdown(output)"
   ]
  },
  {
   "cell_type": "code",
   "execution_count": 51,
   "metadata": {},
   "outputs": [],
   "source": [
    "WRITER_SYS_MSG = \"\"\"\n",
    "You are a research assistant and a scientific writer.\n",
    "YOu take in requests about topics and write an organized research report on those topics\n",
    "\"\"\"\n",
    "prompt =  ChatPromptTemplate.from_messages([\n",
    "    ('system', WRITER_SYS_MSG ),\n",
    "    ('human','Write an organized research report about this topic:\\n\\n{topic}.')\n",
    "])\n",
    "\n",
    "llm = ChatOpenAI(model='gpt-4o-mini', temperature=0)\n",
    "\n",
    "output_parser = StrOutputParser()\n",
    "\n",
    "writer_chain = prompt |  llm | output_parser\n",
    "\n",
    "#output = writer_chain.invoke({'topic':'How do Transformers work for non AI researchers?.'})\n",
    "\n",
    "# Markdown(output)"
   ]
  },
  {
   "cell_type": "code",
   "execution_count": 59,
   "metadata": {},
   "outputs": [],
   "source": [
    "REVIEWER_SYS_MSG = \"\"\"\n",
    "You are reviewer for the research report/\n",
    "\"\"\"\n",
    "prompt_reviewer =  ChatPromptTemplate.from_messages([\n",
    "    ('system', REVIEWER_SYS_MSG ),\n",
    "    ('human','Provide Feedback on this research report:\\n\\n {report}. Add 5 concise points')\n",
    "])\n",
    "\n",
    "llm_reviewer = ChatOpenAI(model='gpt-4o-mini', temperature=0.24)\n",
    "\n",
    "review_chain = prompt_reviewer |  llm_reviewer | output_parser\n",
    "\n",
    "#feedback_output = review_chain.invoke({'report':output})\n",
    "\n",
    "#Markdown(feedback_output)"
   ]
  },
  {
   "cell_type": "code",
   "execution_count": 60,
   "metadata": {},
   "outputs": [],
   "source": [
    "FINAL_WRITER_SYS_MSG = \"\"\"\n",
    "You take in a research report and a set of bullet points with feedback on improve,\n",
    "and you revise the research report based on the feedback and write a final version\n",
    "\"\"\"\n",
    "\n",
    "prompt_final_writer = ChatPromptTemplate.from_messages(\n",
    "    [\n",
    "        ('system', FINAL_WRITER_SYS_MSG),\n",
    "        ('human','Write a Reviewed version of the report:\\n\\n {report} based on the following {feedback} \\n\\n')\n",
    "    ]\n",
    ")\n",
    "llm_final_writer = ChatOpenAI(model='gpt-4o-mini', temperature=0.2)\n",
    "\n",
    "chain_final_writer = prompt_final_writer | llm_final_writer | output_parser\n",
    "\n",
    "# output_final_report =chain_final_writer.invoke({'report':output,'feedback':feedback_output})\n",
    "# Markdown(output_final_report)\n"
   ]
  },
  {
   "cell_type": "code",
   "execution_count": 61,
   "metadata": {},
   "outputs": [
    {
     "data": {
      "text/plain": [
       "langchain_core.runnables.base.RunnableSequence"
      ]
     },
     "execution_count": 61,
     "metadata": {},
     "output_type": "execute_result"
    }
   ],
   "source": [
    "type(writer_chain)"
   ]
  },
  {
   "cell_type": "code",
   "execution_count": 62,
   "metadata": {},
   "outputs": [
    {
     "data": {
      "text/plain": [
       "langchain_core.runnables.base.RunnableSequence"
      ]
     },
     "execution_count": 62,
     "metadata": {},
     "output_type": "execute_result"
    }
   ],
   "source": [
    "type(review_chain)"
   ]
  },
  {
   "cell_type": "markdown",
   "metadata": {},
   "source": [
    "- What is Runnable Sequence?\n",
    "- A sequence of Runnnable.\n",
    "- What is Runnable?\n",
    "- Something you can run. Object with standard methods like, invoke, batch, etc... You can compose these objects together to create a pipeline of operations."
   ]
  },
  {
   "cell_type": "code",
   "execution_count": 63,
   "metadata": {},
   "outputs": [],
   "source": [
    "from langchain_core.runnables import RunnableSequence, RunnableLambda"
   ]
  },
  {
   "cell_type": "code",
   "execution_count": 64,
   "metadata": {},
   "outputs": [
    {
     "data": {
      "text/plain": [
       "16"
      ]
     },
     "execution_count": 64,
     "metadata": {},
     "output_type": "execute_result"
    }
   ],
   "source": [
    "def sum_x_to_x(x:int) -> int:\n",
    "    return x+x\n",
    "\n",
    "def multiply_x_to_x(x:int) -> int:\n",
    "    return x*x\n",
    "\n",
    "\n",
    "runnable_1 = RunnableLambda(sum_x_to_x)\n",
    "runnable_2 = RunnableLambda(multiply_x_to_x)\n",
    "\n",
    "runnable_sequnce = RunnableSequence(first= runnable_1, last= runnable_2)\n",
    "\n",
    "\n",
    "runnable_sequnce.invoke(2)"
   ]
  },
  {
   "cell_type": "code",
   "execution_count": 65,
   "metadata": {},
   "outputs": [],
   "source": [
    "from langchain_core.runnables import RunnablePassthrough"
   ]
  },
  {
   "cell_type": "code",
   "execution_count": 66,
   "metadata": {},
   "outputs": [
    {
     "data": {
      "text/markdown": [
       "# Revised Research Report: Using AI for Personal Productivity\n",
       "\n",
       "## Abstract\n",
       "The integration of Artificial Intelligence (AI) into personal productivity tools has significantly transformed how individuals manage their time, tasks, and overall efficiency. This report explores various applications of AI in enhancing personal productivity, the benefits and challenges associated with its use, and future trends in this rapidly evolving field. Additionally, it includes insights from user experiences and expert predictions to provide a comprehensive understanding of AI's impact on personal productivity.\n",
       "\n",
       "## Introduction\n",
       "Personal productivity refers to an individual's ability to manage their time and resources effectively to achieve their goals. With the advent of AI technologies, there has been a notable shift in how people approach productivity. AI tools can automate mundane tasks, provide insights through data analysis, and enhance decision-making processes. This report aims to provide an overview of the current landscape of AI applications in personal productivity, highlighting key tools, benefits, challenges, and future directions. The methodology for this report includes a review of existing literature, case studies, and user testimonials to ensure a well-rounded perspective.\n",
       "\n",
       "## Applications of AI in Personal Productivity\n",
       "\n",
       "### 1. Task Management\n",
       "AI-powered task management tools, such as Todoist and Trello, utilize algorithms to prioritize tasks based on deadlines, importance, and user behavior. These tools can suggest optimal schedules and remind users of upcoming deadlines, thereby enhancing time management. For instance, a case study of a marketing team using Trello showed a 30% increase in project completion rates due to improved task prioritization.\n",
       "\n",
       "### 2. Virtual Assistants\n",
       "Virtual assistants like Google Assistant, Siri, and Amazon Alexa leverage AI to help users manage their daily activities. They can set reminders, schedule appointments, and control smart home devices, allowing users to streamline their routines. User testimonials indicate that individuals who regularly use virtual assistants report a significant reduction in daily task management time.\n",
       "\n",
       "### 3. Email Management\n",
       "AI-driven email management tools, such as SaneBox and Clean Email, help users declutter their inboxes by automatically sorting emails, prioritizing important messages, and unsubscribing from unwanted newsletters. This reduces the time spent on email management and increases focus on critical tasks. A survey of users revealed that those utilizing these tools saved an average of 10 hours per month on email-related activities.\n",
       "\n",
       "### 4. Time Tracking\n",
       "AI applications like RescueTime and Toggl analyze how users spend their time across various activities. By providing insights into productivity patterns, these tools help users identify time-wasting habits and optimize their schedules. Users have reported improved awareness of their productivity patterns, leading to more intentional time management.\n",
       "\n",
       "### 5. Content Creation\n",
       "AI tools such as Grammarly and Jasper assist in content creation by providing grammar checks, style suggestions, and generating text based on prompts. This can significantly reduce the time spent on writing and editing tasks. For example, a freelance writer reported a 50% decrease in editing time after incorporating Grammarly into their workflow.\n",
       "\n",
       "## Benefits of Using AI for Personal Productivity\n",
       "\n",
       "### 1. Increased Efficiency\n",
       "AI tools automate repetitive tasks, allowing users to focus on higher-value activities. This leads to improved efficiency and productivity.\n",
       "\n",
       "### 2. Enhanced Decision-Making\n",
       "AI can analyze large datasets and provide actionable insights, enabling users to make informed decisions quickly.\n",
       "\n",
       "### 3. Personalization\n",
       "AI systems can learn from user behavior and preferences, offering personalized recommendations that align with individual productivity styles.\n",
       "\n",
       "### 4. Reduced Cognitive Load\n",
       "By automating routine tasks and providing reminders, AI reduces the cognitive load on users, allowing them to concentrate on more complex tasks.\n",
       "\n",
       "## Challenges of Using AI for Personal Productivity\n",
       "\n",
       "### 1. Over-Reliance on Technology\n",
       "Dependence on AI tools may lead to a decline in critical thinking and problem-solving skills, as users may become accustomed to relying on technology for decision-making. To mitigate this, users should balance AI assistance with traditional methods of task management.\n",
       "\n",
       "### 2. Privacy Concerns\n",
       "The use of AI often involves data collection, raising concerns about user privacy and data security. Users must be cautious about the information they share with AI applications and consider using tools with robust privacy policies.\n",
       "\n",
       "### 3. Learning Curve\n",
       "Some users may find it challenging to adapt to new AI tools, which can hinder their productivity rather than enhance it. Providing comprehensive tutorials and support can help ease this transition.\n",
       "\n",
       "### 4. Cost\n",
       "While many AI tools offer free versions, premium features often come at a cost, which may not be feasible for all users. Exploring free alternatives or trial versions can help users find suitable tools without financial strain.\n",
       "\n",
       "## Future Trends in AI and Personal Productivity\n",
       "\n",
       "### 1. Integration of AI with Other Technologies\n",
       "The future of personal productivity will likely see greater integration of AI with other emerging technologies, such as the Internet of Things (IoT) and augmented reality (AR), creating more seamless and efficient workflows.\n",
       "\n",
       "### 2. Advanced Natural Language Processing\n",
       "Improvements in natural language processing (NLP) will enable AI tools to understand and respond to user queries more effectively, enhancing user experience and productivity.\n",
       "\n",
       "### 3. Greater Focus on Mental Well-being\n",
       "AI tools are expected to incorporate features that promote mental well-being, such as mindfulness reminders and stress management techniques, recognizing the importance of mental health in productivity.\n",
       "\n",
       "### 4. Customizable AI Solutions\n",
       "As AI technology evolves, users will likely have access to more customizable solutions that cater to their specific productivity needs and preferences.\n",
       "\n",
       "## Conclusion\n",
       "The use of AI in personal productivity presents numerous opportunities for individuals to enhance their efficiency and effectiveness. While there are challenges to consider, the benefits of AI tools in task management, time tracking, and content creation are significant. As technology continues to advance, the potential for AI to further transform personal productivity is immense, paving the way for more personalized and efficient work habits. Individuals are encouraged to explore AI tools that align with their productivity practices and to remain mindful of the balance between technology use and personal skills development.\n",
       "\n",
       "## References\n",
       "1. Daugherty, P. R., & Wilson, H. J. (2018). Human + Machine: Reimagining Work in the Age of AI. Harvard Business Review Press.\n",
       "2. McKinsey Global Institute. (2021). The Future of Work: Reskilling and Remote Work. McKinsey & Company.\n",
       "3. Brynjolfsson, E., & McAfee, A. (2014). The Second Machine Age: Work, Progress, and Prosperity in a Time of Brilliant Technologies. W. W. Norton & Company.\n",
       "4. Chui, M., Manyika, J., & Miremadi, M. (2016). Where machines could replace humans—and where they can’t (yet). McKinsey Quarterly.\n",
       "5. Recent studies and articles from 2022-2023 on AI applications in productivity (to be added based on further research). \n",
       "\n",
       "This revised report incorporates user experiences, expert predictions, and practical strategies to address challenges, providing a more comprehensive and actionable resource for individuals seeking to enhance their productivity through AI tools."
      ],
      "text/plain": [
       "<IPython.core.display.Markdown object>"
      ]
     },
     "execution_count": 66,
     "metadata": {},
     "output_type": "execute_result"
    }
   ],
   "source": [
    "composed_chain = {'report': writer_chain} |  RunnablePassthrough().assign(feedback=review_chain) | chain_final_writer\n",
    "\n",
    "output_final_report = composed_chain.invoke({'topic':'Using AI for personal productivity'})\n",
    "Markdown(output_final_report)"
   ]
  },
  {
   "cell_type": "code",
   "execution_count": null,
   "metadata": {},
   "outputs": [],
   "source": []
  }
 ],
 "metadata": {
  "kernelspec": {
   "display_name": "langchain",
   "language": "python",
   "name": "python3"
  },
  "language_info": {
   "codemirror_mode": {
    "name": "ipython",
    "version": 3
   },
   "file_extension": ".py",
   "mimetype": "text/x-python",
   "name": "python",
   "nbconvert_exporter": "python",
   "pygments_lexer": "ipython3",
   "version": "3.9.20"
  }
 },
 "nbformat": 4,
 "nbformat_minor": 2
}
