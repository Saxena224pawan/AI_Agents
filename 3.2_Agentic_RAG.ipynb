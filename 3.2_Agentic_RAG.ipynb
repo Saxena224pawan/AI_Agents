{
 "cells": [
  {
   "cell_type": "markdown",
   "metadata": {},
   "source": [
    "# Agentic RAG\n",
    "\n",
    "- Retrival Agents are useful when we wanted to make decisions about whether to retrieve from an index\n",
    "- To implement the retrieval agen, we simplt need to give an LLM access to a retriever tool.\n",
    "- We can incorporate this into LangGraph."
   ]
  },
  {
   "cell_type": "code",
   "execution_count": 1,
   "metadata": {},
   "outputs": [],
   "source": [
    "from langchain_community.document_loaders import PyPDFLoader\n",
    "from langchain_community.vectorstores import Chroma\n",
    "from langchain_openai import OpenAIEmbeddings, ChatOpenAI"
   ]
  },
  {
   "cell_type": "code",
   "execution_count": 2,
   "metadata": {},
   "outputs": [
    {
     "name": "stdout",
     "output_type": "stream",
     "text": [
      "Requirement already satisfied: pypdf in c:\\users\\saxen\\anaconda3\\envs\\langchain\\lib\\site-packages (5.1.0)\n",
      "Requirement already satisfied: chromadb in c:\\users\\saxen\\anaconda3\\envs\\langchain\\lib\\site-packages (0.5.23)\n",
      "Requirement already satisfied: typing_extensions>=4.0 in c:\\users\\saxen\\anaconda3\\envs\\langchain\\lib\\site-packages (from pypdf) (4.12.2)\n",
      "Requirement already satisfied: build>=1.0.3 in c:\\users\\saxen\\anaconda3\\envs\\langchain\\lib\\site-packages (from chromadb) (1.2.2.post1)\n",
      "Requirement already satisfied: pydantic>=1.9 in c:\\users\\saxen\\anaconda3\\envs\\langchain\\lib\\site-packages (from chromadb) (2.10.4)\n",
      "Requirement already satisfied: chroma-hnswlib==0.7.6 in c:\\users\\saxen\\anaconda3\\envs\\langchain\\lib\\site-packages (from chromadb) (0.7.6)\n",
      "Requirement already satisfied: fastapi>=0.95.2 in c:\\users\\saxen\\anaconda3\\envs\\langchain\\lib\\site-packages (from chromadb) (0.115.6)\n",
      "Requirement already satisfied: uvicorn>=0.18.3 in c:\\users\\saxen\\anaconda3\\envs\\langchain\\lib\\site-packages (from uvicorn[standard]>=0.18.3->chromadb) (0.34.0)\n",
      "Requirement already satisfied: numpy>=1.22.5 in c:\\users\\saxen\\anaconda3\\envs\\langchain\\lib\\site-packages (from chromadb) (1.26.4)\n",
      "Requirement already satisfied: posthog>=2.4.0 in c:\\users\\saxen\\anaconda3\\envs\\langchain\\lib\\site-packages (from chromadb) (3.7.4)\n",
      "Requirement already satisfied: onnxruntime>=1.14.1 in c:\\users\\saxen\\anaconda3\\envs\\langchain\\lib\\site-packages (from chromadb) (1.19.2)\n",
      "Requirement already satisfied: opentelemetry-api>=1.2.0 in c:\\users\\saxen\\anaconda3\\envs\\langchain\\lib\\site-packages (from chromadb) (1.29.0)\n",
      "Requirement already satisfied: opentelemetry-exporter-otlp-proto-grpc>=1.2.0 in c:\\users\\saxen\\anaconda3\\envs\\langchain\\lib\\site-packages (from chromadb) (1.29.0)\n",
      "Requirement already satisfied: opentelemetry-instrumentation-fastapi>=0.41b0 in c:\\users\\saxen\\anaconda3\\envs\\langchain\\lib\\site-packages (from chromadb) (0.50b0)\n",
      "Requirement already satisfied: opentelemetry-sdk>=1.2.0 in c:\\users\\saxen\\anaconda3\\envs\\langchain\\lib\\site-packages (from chromadb) (1.29.0)\n",
      "Requirement already satisfied: tokenizers<=0.20.3,>=0.13.2 in c:\\users\\saxen\\anaconda3\\envs\\langchain\\lib\\site-packages (from chromadb) (0.20.3)\n",
      "Requirement already satisfied: pypika>=0.48.9 in c:\\users\\saxen\\anaconda3\\envs\\langchain\\lib\\site-packages (from chromadb) (0.48.9)\n",
      "Requirement already satisfied: tqdm>=4.65.0 in c:\\users\\saxen\\anaconda3\\envs\\langchain\\lib\\site-packages (from chromadb) (4.67.1)\n",
      "Requirement already satisfied: overrides>=7.3.1 in c:\\users\\saxen\\anaconda3\\envs\\langchain\\lib\\site-packages (from chromadb) (7.7.0)\n",
      "Requirement already satisfied: importlib-resources in c:\\users\\saxen\\anaconda3\\envs\\langchain\\lib\\site-packages (from chromadb) (6.4.5)\n",
      "Requirement already satisfied: grpcio>=1.58.0 in c:\\users\\saxen\\anaconda3\\envs\\langchain\\lib\\site-packages (from chromadb) (1.68.1)\n",
      "Requirement already satisfied: bcrypt>=4.0.1 in c:\\users\\saxen\\anaconda3\\envs\\langchain\\lib\\site-packages (from chromadb) (4.2.1)\n",
      "Requirement already satisfied: typer>=0.9.0 in c:\\users\\saxen\\anaconda3\\envs\\langchain\\lib\\site-packages (from chromadb) (0.15.1)\n",
      "Requirement already satisfied: kubernetes>=28.1.0 in c:\\users\\saxen\\anaconda3\\envs\\langchain\\lib\\site-packages (from chromadb) (31.0.0)\n",
      "Requirement already satisfied: tenacity>=8.2.3 in c:\\users\\saxen\\anaconda3\\envs\\langchain\\lib\\site-packages (from chromadb) (8.5.0)\n",
      "Requirement already satisfied: PyYAML>=6.0.0 in c:\\users\\saxen\\anaconda3\\envs\\langchain\\lib\\site-packages (from chromadb) (6.0.2)\n",
      "Requirement already satisfied: mmh3>=4.0.1 in c:\\users\\saxen\\anaconda3\\envs\\langchain\\lib\\site-packages (from chromadb) (5.0.1)\n",
      "Requirement already satisfied: orjson>=3.9.12 in c:\\users\\saxen\\anaconda3\\envs\\langchain\\lib\\site-packages (from chromadb) (3.10.12)\n",
      "Requirement already satisfied: httpx>=0.27.0 in c:\\users\\saxen\\anaconda3\\envs\\langchain\\lib\\site-packages (from chromadb) (0.28.1)\n",
      "Requirement already satisfied: rich>=10.11.0 in c:\\users\\saxen\\anaconda3\\envs\\langchain\\lib\\site-packages (from chromadb) (13.9.4)\n",
      "Requirement already satisfied: packaging>=19.1 in c:\\users\\saxen\\anaconda3\\envs\\langchain\\lib\\site-packages (from build>=1.0.3->chromadb) (24.2)\n",
      "Requirement already satisfied: pyproject_hooks in c:\\users\\saxen\\anaconda3\\envs\\langchain\\lib\\site-packages (from build>=1.0.3->chromadb) (1.2.0)\n",
      "Requirement already satisfied: colorama in c:\\users\\saxen\\anaconda3\\envs\\langchain\\lib\\site-packages (from build>=1.0.3->chromadb) (0.4.6)\n",
      "Requirement already satisfied: importlib-metadata>=4.6 in c:\\users\\saxen\\anaconda3\\envs\\langchain\\lib\\site-packages (from build>=1.0.3->chromadb) (8.5.0)\n",
      "Requirement already satisfied: tomli>=1.1.0 in c:\\users\\saxen\\anaconda3\\envs\\langchain\\lib\\site-packages (from build>=1.0.3->chromadb) (2.2.1)\n",
      "Requirement already satisfied: starlette<0.42.0,>=0.40.0 in c:\\users\\saxen\\anaconda3\\envs\\langchain\\lib\\site-packages (from fastapi>=0.95.2->chromadb) (0.41.3)\n",
      "Requirement already satisfied: anyio in c:\\users\\saxen\\anaconda3\\envs\\langchain\\lib\\site-packages (from httpx>=0.27.0->chromadb) (4.7.0)\n",
      "Requirement already satisfied: certifi in c:\\users\\saxen\\anaconda3\\envs\\langchain\\lib\\site-packages (from httpx>=0.27.0->chromadb) (2024.12.14)\n",
      "Requirement already satisfied: httpcore==1.* in c:\\users\\saxen\\anaconda3\\envs\\langchain\\lib\\site-packages (from httpx>=0.27.0->chromadb) (1.0.7)\n",
      "Requirement already satisfied: idna in c:\\users\\saxen\\anaconda3\\envs\\langchain\\lib\\site-packages (from httpx>=0.27.0->chromadb) (3.10)\n",
      "Requirement already satisfied: h11<0.15,>=0.13 in c:\\users\\saxen\\anaconda3\\envs\\langchain\\lib\\site-packages (from httpcore==1.*->httpx>=0.27.0->chromadb) (0.14.0)\n",
      "Requirement already satisfied: six>=1.9.0 in c:\\users\\saxen\\anaconda3\\envs\\langchain\\lib\\site-packages (from kubernetes>=28.1.0->chromadb) (1.17.0)\n",
      "Requirement already satisfied: python-dateutil>=2.5.3 in c:\\users\\saxen\\anaconda3\\envs\\langchain\\lib\\site-packages (from kubernetes>=28.1.0->chromadb) (2.9.0.post0)\n",
      "Requirement already satisfied: google-auth>=1.0.1 in c:\\users\\saxen\\anaconda3\\envs\\langchain\\lib\\site-packages (from kubernetes>=28.1.0->chromadb) (2.37.0)\n",
      "Requirement already satisfied: websocket-client!=0.40.0,!=0.41.*,!=0.42.*,>=0.32.0 in c:\\users\\saxen\\anaconda3\\envs\\langchain\\lib\\site-packages (from kubernetes>=28.1.0->chromadb) (1.8.0)\n",
      "Requirement already satisfied: requests in c:\\users\\saxen\\anaconda3\\envs\\langchain\\lib\\site-packages (from kubernetes>=28.1.0->chromadb) (2.32.3)\n",
      "Requirement already satisfied: requests-oauthlib in c:\\users\\saxen\\anaconda3\\envs\\langchain\\lib\\site-packages (from kubernetes>=28.1.0->chromadb) (2.0.0)\n",
      "Requirement already satisfied: oauthlib>=3.2.2 in c:\\users\\saxen\\anaconda3\\envs\\langchain\\lib\\site-packages (from kubernetes>=28.1.0->chromadb) (3.2.2)\n",
      "Requirement already satisfied: urllib3>=1.24.2 in c:\\users\\saxen\\anaconda3\\envs\\langchain\\lib\\site-packages (from kubernetes>=28.1.0->chromadb) (2.3.0)\n",
      "Requirement already satisfied: durationpy>=0.7 in c:\\users\\saxen\\anaconda3\\envs\\langchain\\lib\\site-packages (from kubernetes>=28.1.0->chromadb) (0.9)\n",
      "Requirement already satisfied: coloredlogs in c:\\users\\saxen\\anaconda3\\envs\\langchain\\lib\\site-packages (from onnxruntime>=1.14.1->chromadb) (15.0.1)\n",
      "Requirement already satisfied: flatbuffers in c:\\users\\saxen\\anaconda3\\envs\\langchain\\lib\\site-packages (from onnxruntime>=1.14.1->chromadb) (24.12.23)\n",
      "Requirement already satisfied: protobuf in c:\\users\\saxen\\anaconda3\\envs\\langchain\\lib\\site-packages (from onnxruntime>=1.14.1->chromadb) (5.29.2)\n",
      "Requirement already satisfied: sympy in c:\\users\\saxen\\anaconda3\\envs\\langchain\\lib\\site-packages (from onnxruntime>=1.14.1->chromadb) (1.13.3)\n",
      "Requirement already satisfied: deprecated>=1.2.6 in c:\\users\\saxen\\anaconda3\\envs\\langchain\\lib\\site-packages (from opentelemetry-api>=1.2.0->chromadb) (1.2.15)\n",
      "Requirement already satisfied: googleapis-common-protos~=1.52 in c:\\users\\saxen\\anaconda3\\envs\\langchain\\lib\\site-packages (from opentelemetry-exporter-otlp-proto-grpc>=1.2.0->chromadb) (1.66.0)\n",
      "Requirement already satisfied: opentelemetry-exporter-otlp-proto-common==1.29.0 in c:\\users\\saxen\\anaconda3\\envs\\langchain\\lib\\site-packages (from opentelemetry-exporter-otlp-proto-grpc>=1.2.0->chromadb) (1.29.0)\n",
      "Requirement already satisfied: opentelemetry-proto==1.29.0 in c:\\users\\saxen\\anaconda3\\envs\\langchain\\lib\\site-packages (from opentelemetry-exporter-otlp-proto-grpc>=1.2.0->chromadb) (1.29.0)\n",
      "Requirement already satisfied: opentelemetry-instrumentation-asgi==0.50b0 in c:\\users\\saxen\\anaconda3\\envs\\langchain\\lib\\site-packages (from opentelemetry-instrumentation-fastapi>=0.41b0->chromadb) (0.50b0)\n",
      "Requirement already satisfied: opentelemetry-instrumentation==0.50b0 in c:\\users\\saxen\\anaconda3\\envs\\langchain\\lib\\site-packages (from opentelemetry-instrumentation-fastapi>=0.41b0->chromadb) (0.50b0)\n",
      "Requirement already satisfied: opentelemetry-semantic-conventions==0.50b0 in c:\\users\\saxen\\anaconda3\\envs\\langchain\\lib\\site-packages (from opentelemetry-instrumentation-fastapi>=0.41b0->chromadb) (0.50b0)\n",
      "Requirement already satisfied: opentelemetry-util-http==0.50b0 in c:\\users\\saxen\\anaconda3\\envs\\langchain\\lib\\site-packages (from opentelemetry-instrumentation-fastapi>=0.41b0->chromadb) (0.50b0)\n",
      "Requirement already satisfied: wrapt<2.0.0,>=1.0.0 in c:\\users\\saxen\\anaconda3\\envs\\langchain\\lib\\site-packages (from opentelemetry-instrumentation==0.50b0->opentelemetry-instrumentation-fastapi>=0.41b0->chromadb) (1.17.0)\n",
      "Requirement already satisfied: asgiref~=3.0 in c:\\users\\saxen\\anaconda3\\envs\\langchain\\lib\\site-packages (from opentelemetry-instrumentation-asgi==0.50b0->opentelemetry-instrumentation-fastapi>=0.41b0->chromadb) (3.8.1)\n",
      "Requirement already satisfied: monotonic>=1.5 in c:\\users\\saxen\\anaconda3\\envs\\langchain\\lib\\site-packages (from posthog>=2.4.0->chromadb) (1.6)\n",
      "Requirement already satisfied: backoff>=1.10.0 in c:\\users\\saxen\\anaconda3\\envs\\langchain\\lib\\site-packages (from posthog>=2.4.0->chromadb) (2.2.1)\n",
      "Requirement already satisfied: annotated-types>=0.6.0 in c:\\users\\saxen\\anaconda3\\envs\\langchain\\lib\\site-packages (from pydantic>=1.9->chromadb) (0.7.0)\n",
      "Requirement already satisfied: pydantic-core==2.27.2 in c:\\users\\saxen\\anaconda3\\envs\\langchain\\lib\\site-packages (from pydantic>=1.9->chromadb) (2.27.2)\n",
      "Requirement already satisfied: markdown-it-py>=2.2.0 in c:\\users\\saxen\\anaconda3\\envs\\langchain\\lib\\site-packages (from rich>=10.11.0->chromadb) (3.0.0)\n",
      "Requirement already satisfied: pygments<3.0.0,>=2.13.0 in c:\\users\\saxen\\anaconda3\\envs\\langchain\\lib\\site-packages (from rich>=10.11.0->chromadb) (2.18.0)\n",
      "Requirement already satisfied: huggingface-hub<1.0,>=0.16.4 in c:\\users\\saxen\\anaconda3\\envs\\langchain\\lib\\site-packages (from tokenizers<=0.20.3,>=0.13.2->chromadb) (0.27.0)\n",
      "Requirement already satisfied: click>=8.0.0 in c:\\users\\saxen\\anaconda3\\envs\\langchain\\lib\\site-packages (from typer>=0.9.0->chromadb) (8.1.8)\n",
      "Requirement already satisfied: shellingham>=1.3.0 in c:\\users\\saxen\\anaconda3\\envs\\langchain\\lib\\site-packages (from typer>=0.9.0->chromadb) (1.5.4)\n",
      "Requirement already satisfied: httptools>=0.6.3 in c:\\users\\saxen\\anaconda3\\envs\\langchain\\lib\\site-packages (from uvicorn[standard]>=0.18.3->chromadb) (0.6.4)\n",
      "Requirement already satisfied: python-dotenv>=0.13 in c:\\users\\saxen\\anaconda3\\envs\\langchain\\lib\\site-packages (from uvicorn[standard]>=0.18.3->chromadb) (1.0.1)\n",
      "Requirement already satisfied: watchfiles>=0.13 in c:\\users\\saxen\\anaconda3\\envs\\langchain\\lib\\site-packages (from uvicorn[standard]>=0.18.3->chromadb) (1.0.3)\n",
      "Requirement already satisfied: websockets>=10.4 in c:\\users\\saxen\\anaconda3\\envs\\langchain\\lib\\site-packages (from uvicorn[standard]>=0.18.3->chromadb) (14.1)\n",
      "Requirement already satisfied: zipp>=3.1.0 in c:\\users\\saxen\\anaconda3\\envs\\langchain\\lib\\site-packages (from importlib-resources->chromadb) (3.21.0)\n",
      "Requirement already satisfied: cachetools<6.0,>=2.0.0 in c:\\users\\saxen\\anaconda3\\envs\\langchain\\lib\\site-packages (from google-auth>=1.0.1->kubernetes>=28.1.0->chromadb) (5.5.0)\n",
      "Requirement already satisfied: pyasn1-modules>=0.2.1 in c:\\users\\saxen\\anaconda3\\envs\\langchain\\lib\\site-packages (from google-auth>=1.0.1->kubernetes>=28.1.0->chromadb) (0.4.1)\n",
      "Requirement already satisfied: rsa<5,>=3.1.4 in c:\\users\\saxen\\anaconda3\\envs\\langchain\\lib\\site-packages (from google-auth>=1.0.1->kubernetes>=28.1.0->chromadb) (4.9)\n",
      "Requirement already satisfied: filelock in c:\\users\\saxen\\anaconda3\\envs\\langchain\\lib\\site-packages (from huggingface-hub<1.0,>=0.16.4->tokenizers<=0.20.3,>=0.13.2->chromadb) (3.16.1)\n",
      "Requirement already satisfied: fsspec>=2023.5.0 in c:\\users\\saxen\\anaconda3\\envs\\langchain\\lib\\site-packages (from huggingface-hub<1.0,>=0.16.4->tokenizers<=0.20.3,>=0.13.2->chromadb) (2024.12.0)\n",
      "Requirement already satisfied: mdurl~=0.1 in c:\\users\\saxen\\anaconda3\\envs\\langchain\\lib\\site-packages (from markdown-it-py>=2.2.0->rich>=10.11.0->chromadb) (0.1.2)\n",
      "Requirement already satisfied: charset_normalizer<4,>=2 in c:\\users\\saxen\\anaconda3\\envs\\langchain\\lib\\site-packages (from requests->kubernetes>=28.1.0->chromadb) (3.4.0)\n",
      "Requirement already satisfied: exceptiongroup>=1.0.2 in c:\\users\\saxen\\anaconda3\\envs\\langchain\\lib\\site-packages (from anyio->httpx>=0.27.0->chromadb) (1.2.2)\n",
      "Requirement already satisfied: sniffio>=1.1 in c:\\users\\saxen\\anaconda3\\envs\\langchain\\lib\\site-packages (from anyio->httpx>=0.27.0->chromadb) (1.3.1)\n",
      "Requirement already satisfied: humanfriendly>=9.1 in c:\\users\\saxen\\anaconda3\\envs\\langchain\\lib\\site-packages (from coloredlogs->onnxruntime>=1.14.1->chromadb) (10.0)\n",
      "Requirement already satisfied: mpmath<1.4,>=1.1.0 in c:\\users\\saxen\\anaconda3\\envs\\langchain\\lib\\site-packages (from sympy->onnxruntime>=1.14.1->chromadb) (1.3.0)\n",
      "Requirement already satisfied: pyreadline3 in c:\\users\\saxen\\anaconda3\\envs\\langchain\\lib\\site-packages (from humanfriendly>=9.1->coloredlogs->onnxruntime>=1.14.1->chromadb) (3.5.4)\n",
      "Requirement already satisfied: pyasn1<0.7.0,>=0.4.6 in c:\\users\\saxen\\anaconda3\\envs\\langchain\\lib\\site-packages (from pyasn1-modules>=0.2.1->google-auth>=1.0.1->kubernetes>=28.1.0->chromadb) (0.6.1)\n"
     ]
    }
   ],
   "source": [
    "! pip install pypdf chromadb"
   ]
  },
  {
   "cell_type": "code",
   "execution_count": 3,
   "metadata": {},
   "outputs": [
    {
     "name": "stdout",
     "output_type": "stream",
     "text": [
      "Requirement already satisfied: langgraph in c:\\users\\saxen\\anaconda3\\envs\\langchain\\lib\\site-packages (0.2.60)\n",
      "Requirement already satisfied: langchain-core!=0.3.0,!=0.3.1,!=0.3.10,!=0.3.11,!=0.3.12,!=0.3.13,!=0.3.14,!=0.3.15,!=0.3.16,!=0.3.17,!=0.3.18,!=0.3.19,!=0.3.2,!=0.3.20,!=0.3.21,!=0.3.22,!=0.3.3,!=0.3.4,!=0.3.5,!=0.3.6,!=0.3.7,!=0.3.8,!=0.3.9,<0.4.0,>=0.2.43 in c:\\users\\saxen\\anaconda3\\envs\\langchain\\lib\\site-packages (from langgraph) (0.3.28)\n",
      "Requirement already satisfied: langgraph-checkpoint<3.0.0,>=2.0.4 in c:\\users\\saxen\\anaconda3\\envs\\langchain\\lib\\site-packages (from langgraph) (2.0.9)\n",
      "Requirement already satisfied: langgraph-sdk<0.2.0,>=0.1.42 in c:\\users\\saxen\\anaconda3\\envs\\langchain\\lib\\site-packages (from langgraph) (0.1.48)\n",
      "Requirement already satisfied: PyYAML>=5.3 in c:\\users\\saxen\\anaconda3\\envs\\langchain\\lib\\site-packages (from langchain-core!=0.3.0,!=0.3.1,!=0.3.10,!=0.3.11,!=0.3.12,!=0.3.13,!=0.3.14,!=0.3.15,!=0.3.16,!=0.3.17,!=0.3.18,!=0.3.19,!=0.3.2,!=0.3.20,!=0.3.21,!=0.3.22,!=0.3.3,!=0.3.4,!=0.3.5,!=0.3.6,!=0.3.7,!=0.3.8,!=0.3.9,<0.4.0,>=0.2.43->langgraph) (6.0.2)\n",
      "Requirement already satisfied: jsonpatch<2.0,>=1.33 in c:\\users\\saxen\\anaconda3\\envs\\langchain\\lib\\site-packages (from langchain-core!=0.3.0,!=0.3.1,!=0.3.10,!=0.3.11,!=0.3.12,!=0.3.13,!=0.3.14,!=0.3.15,!=0.3.16,!=0.3.17,!=0.3.18,!=0.3.19,!=0.3.2,!=0.3.20,!=0.3.21,!=0.3.22,!=0.3.3,!=0.3.4,!=0.3.5,!=0.3.6,!=0.3.7,!=0.3.8,!=0.3.9,<0.4.0,>=0.2.43->langgraph) (1.33)\n",
      "Requirement already satisfied: langsmith<0.3,>=0.1.125 in c:\\users\\saxen\\anaconda3\\envs\\langchain\\lib\\site-packages (from langchain-core!=0.3.0,!=0.3.1,!=0.3.10,!=0.3.11,!=0.3.12,!=0.3.13,!=0.3.14,!=0.3.15,!=0.3.16,!=0.3.17,!=0.3.18,!=0.3.19,!=0.3.2,!=0.3.20,!=0.3.21,!=0.3.22,!=0.3.3,!=0.3.4,!=0.3.5,!=0.3.6,!=0.3.7,!=0.3.8,!=0.3.9,<0.4.0,>=0.2.43->langgraph) (0.1.147)\n",
      "Requirement already satisfied: packaging<25,>=23.2 in c:\\users\\saxen\\anaconda3\\envs\\langchain\\lib\\site-packages (from langchain-core!=0.3.0,!=0.3.1,!=0.3.10,!=0.3.11,!=0.3.12,!=0.3.13,!=0.3.14,!=0.3.15,!=0.3.16,!=0.3.17,!=0.3.18,!=0.3.19,!=0.3.2,!=0.3.20,!=0.3.21,!=0.3.22,!=0.3.3,!=0.3.4,!=0.3.5,!=0.3.6,!=0.3.7,!=0.3.8,!=0.3.9,<0.4.0,>=0.2.43->langgraph) (24.2)\n",
      "Requirement already satisfied: pydantic<3.0.0,>=2.5.2 in c:\\users\\saxen\\anaconda3\\envs\\langchain\\lib\\site-packages (from langchain-core!=0.3.0,!=0.3.1,!=0.3.10,!=0.3.11,!=0.3.12,!=0.3.13,!=0.3.14,!=0.3.15,!=0.3.16,!=0.3.17,!=0.3.18,!=0.3.19,!=0.3.2,!=0.3.20,!=0.3.21,!=0.3.22,!=0.3.3,!=0.3.4,!=0.3.5,!=0.3.6,!=0.3.7,!=0.3.8,!=0.3.9,<0.4.0,>=0.2.43->langgraph) (2.10.4)\n",
      "Requirement already satisfied: tenacity!=8.4.0,<10.0.0,>=8.1.0 in c:\\users\\saxen\\anaconda3\\envs\\langchain\\lib\\site-packages (from langchain-core!=0.3.0,!=0.3.1,!=0.3.10,!=0.3.11,!=0.3.12,!=0.3.13,!=0.3.14,!=0.3.15,!=0.3.16,!=0.3.17,!=0.3.18,!=0.3.19,!=0.3.2,!=0.3.20,!=0.3.21,!=0.3.22,!=0.3.3,!=0.3.4,!=0.3.5,!=0.3.6,!=0.3.7,!=0.3.8,!=0.3.9,<0.4.0,>=0.2.43->langgraph) (8.5.0)\n",
      "Requirement already satisfied: typing-extensions>=4.7 in c:\\users\\saxen\\anaconda3\\envs\\langchain\\lib\\site-packages (from langchain-core!=0.3.0,!=0.3.1,!=0.3.10,!=0.3.11,!=0.3.12,!=0.3.13,!=0.3.14,!=0.3.15,!=0.3.16,!=0.3.17,!=0.3.18,!=0.3.19,!=0.3.2,!=0.3.20,!=0.3.21,!=0.3.22,!=0.3.3,!=0.3.4,!=0.3.5,!=0.3.6,!=0.3.7,!=0.3.8,!=0.3.9,<0.4.0,>=0.2.43->langgraph) (4.12.2)\n",
      "Requirement already satisfied: msgpack<2.0.0,>=1.1.0 in c:\\users\\saxen\\anaconda3\\envs\\langchain\\lib\\site-packages (from langgraph-checkpoint<3.0.0,>=2.0.4->langgraph) (1.1.0)\n",
      "Requirement already satisfied: httpx>=0.25.2 in c:\\users\\saxen\\anaconda3\\envs\\langchain\\lib\\site-packages (from langgraph-sdk<0.2.0,>=0.1.42->langgraph) (0.28.1)\n",
      "Requirement already satisfied: orjson>=3.10.1 in c:\\users\\saxen\\anaconda3\\envs\\langchain\\lib\\site-packages (from langgraph-sdk<0.2.0,>=0.1.42->langgraph) (3.10.12)\n",
      "Requirement already satisfied: anyio in c:\\users\\saxen\\anaconda3\\envs\\langchain\\lib\\site-packages (from httpx>=0.25.2->langgraph-sdk<0.2.0,>=0.1.42->langgraph) (4.7.0)\n",
      "Requirement already satisfied: certifi in c:\\users\\saxen\\anaconda3\\envs\\langchain\\lib\\site-packages (from httpx>=0.25.2->langgraph-sdk<0.2.0,>=0.1.42->langgraph) (2024.12.14)\n",
      "Requirement already satisfied: httpcore==1.* in c:\\users\\saxen\\anaconda3\\envs\\langchain\\lib\\site-packages (from httpx>=0.25.2->langgraph-sdk<0.2.0,>=0.1.42->langgraph) (1.0.7)\n",
      "Requirement already satisfied: idna in c:\\users\\saxen\\anaconda3\\envs\\langchain\\lib\\site-packages (from httpx>=0.25.2->langgraph-sdk<0.2.0,>=0.1.42->langgraph) (3.10)\n",
      "Requirement already satisfied: h11<0.15,>=0.13 in c:\\users\\saxen\\anaconda3\\envs\\langchain\\lib\\site-packages (from httpcore==1.*->httpx>=0.25.2->langgraph-sdk<0.2.0,>=0.1.42->langgraph) (0.14.0)\n",
      "Requirement already satisfied: jsonpointer>=1.9 in c:\\users\\saxen\\anaconda3\\envs\\langchain\\lib\\site-packages (from jsonpatch<2.0,>=1.33->langchain-core!=0.3.0,!=0.3.1,!=0.3.10,!=0.3.11,!=0.3.12,!=0.3.13,!=0.3.14,!=0.3.15,!=0.3.16,!=0.3.17,!=0.3.18,!=0.3.19,!=0.3.2,!=0.3.20,!=0.3.21,!=0.3.22,!=0.3.3,!=0.3.4,!=0.3.5,!=0.3.6,!=0.3.7,!=0.3.8,!=0.3.9,<0.4.0,>=0.2.43->langgraph) (3.0.0)\n",
      "Requirement already satisfied: requests<3,>=2 in c:\\users\\saxen\\anaconda3\\envs\\langchain\\lib\\site-packages (from langsmith<0.3,>=0.1.125->langchain-core!=0.3.0,!=0.3.1,!=0.3.10,!=0.3.11,!=0.3.12,!=0.3.13,!=0.3.14,!=0.3.15,!=0.3.16,!=0.3.17,!=0.3.18,!=0.3.19,!=0.3.2,!=0.3.20,!=0.3.21,!=0.3.22,!=0.3.3,!=0.3.4,!=0.3.5,!=0.3.6,!=0.3.7,!=0.3.8,!=0.3.9,<0.4.0,>=0.2.43->langgraph) (2.32.3)\n",
      "Requirement already satisfied: requests-toolbelt<2.0.0,>=1.0.0 in c:\\users\\saxen\\anaconda3\\envs\\langchain\\lib\\site-packages (from langsmith<0.3,>=0.1.125->langchain-core!=0.3.0,!=0.3.1,!=0.3.10,!=0.3.11,!=0.3.12,!=0.3.13,!=0.3.14,!=0.3.15,!=0.3.16,!=0.3.17,!=0.3.18,!=0.3.19,!=0.3.2,!=0.3.20,!=0.3.21,!=0.3.22,!=0.3.3,!=0.3.4,!=0.3.5,!=0.3.6,!=0.3.7,!=0.3.8,!=0.3.9,<0.4.0,>=0.2.43->langgraph) (1.0.0)\n",
      "Requirement already satisfied: annotated-types>=0.6.0 in c:\\users\\saxen\\anaconda3\\envs\\langchain\\lib\\site-packages (from pydantic<3.0.0,>=2.5.2->langchain-core!=0.3.0,!=0.3.1,!=0.3.10,!=0.3.11,!=0.3.12,!=0.3.13,!=0.3.14,!=0.3.15,!=0.3.16,!=0.3.17,!=0.3.18,!=0.3.19,!=0.3.2,!=0.3.20,!=0.3.21,!=0.3.22,!=0.3.3,!=0.3.4,!=0.3.5,!=0.3.6,!=0.3.7,!=0.3.8,!=0.3.9,<0.4.0,>=0.2.43->langgraph) (0.7.0)\n",
      "Requirement already satisfied: pydantic-core==2.27.2 in c:\\users\\saxen\\anaconda3\\envs\\langchain\\lib\\site-packages (from pydantic<3.0.0,>=2.5.2->langchain-core!=0.3.0,!=0.3.1,!=0.3.10,!=0.3.11,!=0.3.12,!=0.3.13,!=0.3.14,!=0.3.15,!=0.3.16,!=0.3.17,!=0.3.18,!=0.3.19,!=0.3.2,!=0.3.20,!=0.3.21,!=0.3.22,!=0.3.3,!=0.3.4,!=0.3.5,!=0.3.6,!=0.3.7,!=0.3.8,!=0.3.9,<0.4.0,>=0.2.43->langgraph) (2.27.2)\n",
      "Requirement already satisfied: charset_normalizer<4,>=2 in c:\\users\\saxen\\anaconda3\\envs\\langchain\\lib\\site-packages (from requests<3,>=2->langsmith<0.3,>=0.1.125->langchain-core!=0.3.0,!=0.3.1,!=0.3.10,!=0.3.11,!=0.3.12,!=0.3.13,!=0.3.14,!=0.3.15,!=0.3.16,!=0.3.17,!=0.3.18,!=0.3.19,!=0.3.2,!=0.3.20,!=0.3.21,!=0.3.22,!=0.3.3,!=0.3.4,!=0.3.5,!=0.3.6,!=0.3.7,!=0.3.8,!=0.3.9,<0.4.0,>=0.2.43->langgraph) (3.4.0)\n",
      "Requirement already satisfied: urllib3<3,>=1.21.1 in c:\\users\\saxen\\anaconda3\\envs\\langchain\\lib\\site-packages (from requests<3,>=2->langsmith<0.3,>=0.1.125->langchain-core!=0.3.0,!=0.3.1,!=0.3.10,!=0.3.11,!=0.3.12,!=0.3.13,!=0.3.14,!=0.3.15,!=0.3.16,!=0.3.17,!=0.3.18,!=0.3.19,!=0.3.2,!=0.3.20,!=0.3.21,!=0.3.22,!=0.3.3,!=0.3.4,!=0.3.5,!=0.3.6,!=0.3.7,!=0.3.8,!=0.3.9,<0.4.0,>=0.2.43->langgraph) (2.3.0)\n",
      "Requirement already satisfied: exceptiongroup>=1.0.2 in c:\\users\\saxen\\anaconda3\\envs\\langchain\\lib\\site-packages (from anyio->httpx>=0.25.2->langgraph-sdk<0.2.0,>=0.1.42->langgraph) (1.2.2)\n",
      "Requirement already satisfied: sniffio>=1.1 in c:\\users\\saxen\\anaconda3\\envs\\langchain\\lib\\site-packages (from anyio->httpx>=0.25.2->langgraph-sdk<0.2.0,>=0.1.42->langgraph) (1.3.1)\n"
     ]
    }
   ],
   "source": [
    "! pip install langgraph"
   ]
  },
  {
   "cell_type": "code",
   "execution_count": 4,
   "metadata": {},
   "outputs": [],
   "source": [
    "import os\n",
    "import yaml\n",
    "\n",
    "# Load the YAML file\n",
    "def load_api_key(yml_file,key_var):\n",
    "    with open(yml_file, 'r') as file:\n",
    "        config = yaml.safe_load(file)  # Safely load the YAML file\n",
    "        return config.get(key_var)  # Retrieve the 'api_key'\n",
    "\n",
    "# Usage\n",
    "\n",
    "os.environ['OPENAI_API_KEY'] =load_api_key('chatgpt_api_credentials.yml', 'openai_key')\n",
    "os.environ['TAVILY_API_KEY'] =load_api_key('tavily_api_key.yml', 'tavily_key')\n"
   ]
  },
  {
   "cell_type": "code",
   "execution_count": 6,
   "metadata": {},
   "outputs": [
    {
     "data": {
      "text/plain": [
       "227"
      ]
     },
     "execution_count": 6,
     "metadata": {},
     "output_type": "execute_result"
    }
   ],
   "source": [
    "file_path = \"assests_resource\\stanford_cs_229_notes.pdf\"\n",
    "\n",
    "docs = PyPDFLoader(file_path).load_and_split()\n",
    "\n",
    "len(docs)"
   ]
  },
  {
   "cell_type": "code",
   "execution_count": 7,
   "metadata": {},
   "outputs": [
    {
     "data": {
      "text/plain": [
       "[Document(metadata={'source': 'assests_resource\\\\stanford_cs_229_notes.pdf', 'page': 0}, page_content='CS229 Lecture Notes\\nAndrew Ng and Tengyu Ma\\nJune 11, 2023'),\n",
       " Document(metadata={'source': 'assests_resource\\\\stanford_cs_229_notes.pdf', 'page': 1}, page_content='Contents\\nI Supervised learning 5\\n1 Linear regression 8\\n1.1 LMS algorithm . . . . . . . . . . . . . . . . . . . . . . . . . . 9\\n1.2 The normal equations . . . . . . . . . . . . . . . . . . . . . . . 13\\n1.2.1 Matrix derivatives . . . . . . . . . . . . . . . . . . . . . 13\\n1.2.2 Least squares revisited . . . . . . . . . . . . . . . . . . 14\\n1.3 Probabilistic interpretation . . . . . . . . . . . . . . . . . . . . 15\\n1.4 Locally weighted linear regression (optional reading) . . . . . . 17\\n2 Classiﬁcation and logistic regression 20\\n2.1 Logistic regression . . . . . . . . . . . . . . . . . . . . . . . . 20\\n2.2 Digression: the perceptron learning algorithm . . . . . . . . . 23\\n2.3 Multi-class classiﬁcation . . . . . . . . . . . . . . . . . . . . . 24\\n2.4 Another algorithm for maximizing ℓ(θ) . . . . . . . . . . . . . 27\\n3 Generalized linear models 29\\n3.1 The exponential family . . . . . . . . . . . . . . . . . . . . . . 29\\n3.2 Constructing GLMs . . . . . . . . . . . . . . . . . . . . . . . . 31\\n3.2.1 Ordinary least squares . . . . . . . . . . . . . . . . . . 32\\n3.2.2 Logistic regression . . . . . . . . . . . . . . . . . . . . 33\\n4 Generative learning algorithms 34\\n4.1 Gaussian discriminant analysis . . . . . . . . . . . . . . . . . . 35\\n4.1.1 The multivariate normal distribution . . . . . . . . . . 35\\n4.1.2 The Gaussian discriminant analysis model . . . . . . . 38\\n4.1.3 Discussion: GDA and logistic regression . . . . . . . . 40\\n4.2 Naive bayes (Option Reading) . . . . . . . . . . . . . . . . . . 41\\n4.2.1 Laplace smoothing . . . . . . . . . . . . . . . . . . . . 44\\n4.2.2 Event models for text classiﬁcation . . . . . . . . . . . 46\\n1'),\n",
       " Document(metadata={'source': 'assests_resource\\\\stanford_cs_229_notes.pdf', 'page': 2}, page_content='CS229 Spring 20223 2\\n5 Kernel methods 48\\n5.1 Feature maps . . . . . . . . . . . . . . . . . . . . . . . . . . . 48\\n5.2 LMS (least mean squares) with features . . . . . . . . . . . . . 49\\n5.3 LMS with the kernel trick . . . . . . . . . . . . . . . . . . . . 49\\n5.4 Properties of kernels . . . . . . . . . . . . . . . . . . . . . . . 53\\n6 Support vector machines 59\\n6.1 Margins: intuition . . . . . . . . . . . . . . . . . . . . . . . . . 59\\n6.2 Notation (option reading) . . . . . . . . . . . . . . . . . . . . 61\\n6.3 Functional and geometric margins (option reading) . . . . . . 61\\n6.4 The optimal margin classiﬁer (option reading) . . . . . . . . . 63\\n6.5 Lagrange duality (optional reading) . . . . . . . . . . . . . . . 65\\n6.6 Optimal margin classiﬁers: the dual form (option reading) . . 68\\n6.7 Regularization and the non-separable case (optional reading) . 72\\n6.8 The SMO algorithm (optional reading) . . . . . . . . . . . . . 73\\n6.8.1 Coordinate ascent . . . . . . . . . . . . . . . . . . . . . 74\\n6.8.2 SMO . . . . . . . . . . . . . . . . . . . . . . . . . . . . 75\\nII Deep learning 79\\n7 Deep learning 80\\n7.1 Supervised learning with non-linear models . . . . . . . . . . . 80\\n7.2 Neural networks . . . . . . . . . . . . . . . . . . . . . . . . . . 84\\n7.3 Modules in Modern Neural Networks . . . . . . . . . . . . . . 92\\n7.4 Backpropagation . . . . . . . . . . . . . . . . . . . . . . . . . 98\\n7.4.1 Preliminaries on partial derivatives . . . . . . . . . . . 99\\n7.4.2 General strategy of backpropagation . . . . . . . . . . 102\\n7.4.3 Backward functions for basic modules . . . . . . . . . . 105\\n7.4.4 Back-propagation for MLPs . . . . . . . . . . . . . . . 107\\n7.5 Vectorization over training examples . . . . . . . . . . . . . . 109\\nIII Generalization and regularization 112\\n8 Generalization 113\\n8.1 Bias-variance tradeoﬀ . . . . . . . . . . . . . . . . . . . . . . . 115\\n8.1.1 A mathematical decomposition (for regression) . . . . . 120\\n8.2 The double descent phenomenon . . . . . . . . . . . . . . . . . 121\\n8.3 Sample complexity bounds (optional readings) . . . . . . . . . 126'),\n",
       " Document(metadata={'source': 'assests_resource\\\\stanford_cs_229_notes.pdf', 'page': 3}, page_content='CS229 Spring 20223 3\\n8.3.1 Preliminaries . . . . . . . . . . . . . . . . . . . . . . . 126\\n8.3.2 The case of ﬁnite H. . . . . . . . . . . . . . . . . . . . 128\\n8.3.3 The case of inﬁnite H . . . . . . . . . . . . . . . . . . 131\\n9 Regularization and model selection 135\\n9.1 Regularization . . . . . . . . . . . . . . . . . . . . . . . . . . . 135\\n9.2 Implicit regularization eﬀect (optional reading) . . . . . . . . . 137\\n9.3 Model selection via cross validation . . . . . . . . . . . . . . . 139\\n9.4 Bayesian statistics and regularization . . . . . . . . . . . . . . 142\\nIV Unsupervised learning 144\\n10 Clustering and the k-means algorithm 145\\n11 EM algorithms 148\\n11.1 EM for mixture of Gaussians . . . . . . . . . . . . . . . . . . . 148\\n11.2 Jensen’s inequality . . . . . . . . . . . . . . . . . . . . . . . . 151\\n11.3 General EM algorithms . . . . . . . . . . . . . . . . . . . . . . 152\\n11.3.1 Other interpretation of ELBO . . . . . . . . . . . . . . 158\\n11.4 Mixture of Gaussians revisited . . . . . . . . . . . . . . . . . . 158\\n11.5 Variational inference and variational auto-encoder (optional\\nreading) . . . . . . . . . . . . . . . . . . . . . . . . . . . . . . 160\\n12 Principal components analysis 165\\n13 Independent components analysis 171\\n13.1 ICA ambiguities . . . . . . . . . . . . . . . . . . . . . . . . . . 172\\n13.2 Densities and linear transformations . . . . . . . . . . . . . . . 173\\n13.3 ICA algorithm . . . . . . . . . . . . . . . . . . . . . . . . . . . 174\\n14 Self-supervised learning and foundation models 177\\n14.1 Pretraining and adaptation . . . . . . . . . . . . . . . . . . . . 177\\n14.2 Pretraining methods in computer vision . . . . . . . . . . . . . 179\\n14.3 Pretrained large language models . . . . . . . . . . . . . . . . 181\\n14.3.1 Open up the blackbox of Transformers . . . . . . . . . 183\\n14.3.2 Zero-shot learning and in-context learning . . . . . . . 186'),\n",
       " Document(metadata={'source': 'assests_resource\\\\stanford_cs_229_notes.pdf', 'page': 4}, page_content='CS229 Spring 20223 4\\nV Reinforcement Learning and Control 188\\n15 Reinforcement learning 189\\n15.1 Markov decision processes . . . . . . . . . . . . . . . . . . . . 190\\n15.2 Value iteration and policy iteration . . . . . . . . . . . . . . . 192\\n15.3 Learning a model for an MDP . . . . . . . . . . . . . . . . . . 194\\n15.4 Continuous state MDPs . . . . . . . . . . . . . . . . . . . . . 196\\n15.4.1 Discretization . . . . . . . . . . . . . . . . . . . . . . . 196\\n15.4.2 Value function approximation . . . . . . . . . . . . . . 199\\n15.5 Connections between Policy and Value Iteration (Optional) . . 203\\n16 LQR, DDP and LQG 206\\n16.1 Finite-horizon MDPs . . . . . . . . . . . . . . . . . . . . . . . 206\\n16.2 Linear Quadratic Regulation (LQR) . . . . . . . . . . . . . . . 210\\n16.3 From non-linear dynamics to LQR . . . . . . . . . . . . . . . 213\\n16.3.1 Linearization of dynamics . . . . . . . . . . . . . . . . 214\\n16.3.2 Diﬀerential Dynamic Programming (DDP) . . . . . . . 214\\n16.4 Linear Quadratic Gaussian (LQG) . . . . . . . . . . . . . . . . 216\\n17 Policy Gradient (REINFORCE) 220')]"
      ]
     },
     "execution_count": 7,
     "metadata": {},
     "output_type": "execute_result"
    }
   ],
   "source": [
    "docs[0:5]"
   ]
  },
  {
   "cell_type": "code",
   "execution_count": 8,
   "metadata": {},
   "outputs": [],
   "source": [
    "vectordb = Chroma.from_documents(\n",
    "    documents= docs,\n",
    "    collection_name=\"rag-chroma\",\n",
    "    embedding= OpenAIEmbeddings(),\n",
    "    persist_directory='./stanford_embedding_db'\n",
    ")\n",
    "\n",
    "retriever = vectordb.as_retriever()"
   ]
  },
  {
   "cell_type": "code",
   "execution_count": 9,
   "metadata": {},
   "outputs": [
    {
     "name": "stderr",
     "output_type": "stream",
     "text": [
      "C:\\Users\\saxen\\AppData\\Local\\Temp\\ipykernel_3876\\3711397106.py:1: LangChainDeprecationWarning: Since Chroma 0.4.x the manual persistence method is no longer supported as docs are automatically persisted.\n",
      "  vectordb.persist()\n"
     ]
    }
   ],
   "source": [
    "vectordb.persist()"
   ]
  },
  {
   "cell_type": "code",
   "execution_count": 10,
   "metadata": {},
   "outputs": [],
   "source": [
    "from langchain.tools.retriever import create_retriever_tool\n",
    "\n",
    "retriever_tool = create_retriever_tool(\n",
    "    retriever,\n",
    "    'retrieve_info_from_paper',\n",
    "    'Search and return information about a paper.'\n",
    ")\n",
    "\n",
    "tools = [retriever_tool]"
   ]
  },
  {
   "cell_type": "code",
   "execution_count": 10,
   "metadata": {},
   "outputs": [],
   "source": [
    "from typing import Annotated, Sequence, TypedDict\n",
    "from langchain_core.messages import BaseMessage\n",
    "from langgraph.graph.message import add_messages"
   ]
  },
  {
   "cell_type": "code",
   "execution_count": 11,
   "metadata": {},
   "outputs": [],
   "source": [
    "class AgentState(TypedDict):\n",
    "    messages: Annotated[Sequence[BaseMessage], add_messages]"
   ]
  },
  {
   "cell_type": "code",
   "execution_count": 21,
   "metadata": {},
   "outputs": [],
   "source": [
    "def agent(state: AgentState):\n",
    "    messages = state['messages']\n",
    "    model = ChatOpenAI(temperature =0, streaming=True, model='gpt-4o-mini')\n",
    "\n",
    "    model = model.bind_tools(tools)\n",
    "    response = model.invoke(messages)\n",
    "\n",
    "    return {'messages':[response]}"
   ]
  },
  {
   "cell_type": "code",
   "execution_count": 22,
   "metadata": {},
   "outputs": [],
   "source": [
    "from langgraph.graph import END, START, StateGraph\n",
    "from langgraph.prebuilt import ToolNode, tools_condition\n",
    "\n",
    "# Graph initialiation\n",
    "graph = StateGraph(AgentState)\n",
    "\n",
    "#Nodes\n",
    "graph.add_node('agent', agent)\n",
    "retrieve_node = ToolNode([retriever_tool])\n",
    "graph.add_node('retrieve',retrieve_node)\n",
    "\n",
    "#Edges\n",
    "graph.add_edge(START, 'agent')\n",
    "graph.add_conditional_edges('agent', tools_condition,{'tools':'retrieve',\n",
    "                                                      END: END})\n",
    "compiled_graph = graph.compile()"
   ]
  },
  {
   "cell_type": "code",
   "execution_count": 23,
   "metadata": {},
   "outputs": [
    {
     "data": {
      "image/png": "[encoded data removed]",
      "text/plain": [
       "<IPython.core.display.Image object>"
      ]
     },
     "metadata": {},
     "output_type": "display_data"
    }
   ],
   "source": [
    "from IPython.display import Image, display\n",
    "\n",
    "\n",
    "try:\n",
    "    display(Image(compiled_graph.get_graph(xray=True).draw_mermaid_png()))\n",
    "except Exception:\n",
    "    # this requires some extra dependencis\n",
    "    pass "
   ]
  },
  {
   "cell_type": "code",
   "execution_count": 24,
   "metadata": {},
   "outputs": [
    {
     "name": "stdout",
     "output_type": "stream",
     "text": [
      "\"Output from node '{key}\"\n",
      "'---------'\n",
      "{ 'messages': [ AIMessage(content='', additional_kwargs={'tool_calls': [{'index': 0, 'id': 'call_mMt8BmVnZsSloka6DrMuWPCm', 'function': {'arguments': '{\"query\":\"Support Vector Machine (SVM)\"}', 'name': 'retrieve_info_from_paper'}, 'type': 'function'}]}, response_metadata={'finish_reason': 'tool_calls', 'model_name': 'gpt-4o-mini-2024-07-18', 'system_fingerprint': 'fp_0aa8d3e20b'}, id='run-1fb0409d-186e-4822-aa4b-f6ee44076fe9-0', tool_calls=[{'name': 'retrieve_info_from_paper', 'args': {'query': 'Support Vector Machine (SVM)'}, 'id': 'call_mMt8BmVnZsSloka6DrMuWPCm', 'type': 'tool_call'}])]}\n",
      "'\\n---\\n'\n",
      "\"Output from node '{key}\"\n",
      "'---------'\n",
      "{ 'messages': [ ToolMessage(content='Chapter 6\\nSupport vector machines\\nThis set of notes presents the Support Vector Machine (SVM) learning al-\\ngorithm. SVMs are among the best (and many believe are indeed the best)\\n“oﬀ-the-shelf” supervised learning algorithms. To tell the SVM story, we’ll\\nneed to ﬁrst talk about margins and the idea of separating data with a large\\n“gap.” Next, we’ll talk about the optimal margin classiﬁer, which will lead\\nus into a digression on Lagrange duality. We’ll also see kernels, which give\\na way to apply SVMs eﬃciently in very high dimensional (such as inﬁnite-\\ndimensional) feature spaces, and ﬁnally, we’ll close oﬀ the story with the\\nSMO algorithm, which gives an eﬃcient implementation of SVMs.\\n6.1 Margins: intuition\\nWe’ll start our story on SVMs by talking about margins. This section will\\ngive the intuitions about margins and about the “conﬁdence” of our predic-\\ntions; these ideas will be made formal in Section 6.3.\\nConsider logistic regression, where the probability p(y = 1|x; θ) is mod-\\neled by hθ(x) = g(θTx). We then predict “1” on an input x if and only if\\nhθ(x) ≥0.5, or equivalently, if and only if θTx ≥0. Consider a positive\\ntraining example (y= 1). The larger θTxis, the larger also is hθ(x) = p(y=\\n1|x; θ), and thus also the higher our degree of “conﬁdence” that the label is 1.\\nThus, informally we can think of our prediction as being very conﬁdent that\\ny = 1 if θTx ≫0. Similarly, we think of logistic regression as conﬁdently\\npredicting y= 0, if θTx≪0. Given a training set, again informally it seems\\nthat we’d have found a good ﬁt to the training data if we can ﬁnd θ so that\\nθTx(i) ≫0 whenever y(i) = 1, and θTx(i) ≪0 whenever y(i) = 0, since this\\nwould reﬂect a very conﬁdent (and correct) set of classiﬁcations for all the\\n59\\n\\n58\\nApplication of kernel methods: We’ve seen the application of kernels\\nto linear regression. In the next part, we will introduce the support vector\\nmachines to which kernels can be directly applied. dwell too much longer on\\nit here. In fact, the idea of kernels has signiﬁcantly broader applicability than\\nlinear regression and SVMs. Speciﬁcally, if you have any learning algorithm\\nthat you can write in terms of only inner products ⟨x,z⟩between input\\nattribute vectors, then by replacing this with K(x,z) where K is a kernel,\\nyou can “magically” allow your algorithm to work eﬃciently in the high\\ndimensional feature space corresponding to K. For instance, this kernel trick\\ncan be applied with the perceptron to derive a kernel perceptron algorithm.\\nMany of the algorithms that we’ll see later in this class will also be amenable\\nto this method, which has come to be known as the “kernel trick.”\\n\\nCS229 Spring 20223 2\\n5 Kernel methods 48\\n5.1 Feature maps . . . . . . . . . . . . . . . . . . . . . . . . . . . 48\\n5.2 LMS (least mean squares) with features . . . . . . . . . . . . . 49\\n5.3 LMS with the kernel trick . . . . . . . . . . . . . . . . . . . . 49\\n5.4 Properties of kernels . . . . . . . . . . . . . . . . . . . . . . . 53\\n6 Support vector machines 59\\n6.1 Margins: intuition . . . . . . . . . . . . . . . . . . . . . . . . . 59\\n6.2 Notation (option reading) . . . . . . . . . . . . . . . . . . . . 61\\n6.3 Functional and geometric margins (option reading) . . . . . . 61\\n6.4 The optimal margin classiﬁer (option reading) . . . . . . . . . 63\\n6.5 Lagrange duality (optional reading) . . . . . . . . . . . . . . . 65\\n6.6 Optimal margin classiﬁers: the dual form (option reading) . . 68\\n6.7 Regularization and the non-separable case (optional reading) . 72\\n6.8 The SMO algorithm (optional reading) . . . . . . . . . . . . . 73\\n6.8.1 Coordinate ascent . . . . . . . . . . . . . . . . . . . . . 74\\n6.8.2 SMO . . . . . . . . . . . . . . . . . . . . . . . . . . . . 75\\nII Deep learning 79\\n7 Deep learning 80\\n7.1 Supervised learning with non-linear models . . . . . . . . . . . 80\\n7.2 Neural networks . . . . . . . . . . . . . . . . . . . . . . . . . . 84\\n7.3 Modules in Modern Neural Networks . . . . . . . . . . . . . . 92\\n7.4 Backpropagation . . . . . . . . . . . . . . . . . . . . . . . . . 98\\n7.4.1 Preliminaries on partial derivatives . . . . . . . . . . . 99\\n7.4.2 General strategy of backpropagation . . . . . . . . . . 102\\n7.4.3 Backward functions for basic modules . . . . . . . . . . 105\\n7.4.4 Back-propagation for MLPs . . . . . . . . . . . . . . . 107\\n7.5 Vectorization over training examples . . . . . . . . . . . . . . 109\\nIII Generalization and regularization 112\\n8 Generalization 113\\n8.1 Bias-variance tradeoﬀ . . . . . . . . . . . . . . . . . . . . . . . 115\\n8.1.1 A mathematical decomposition (for regression) . . . . . 120\\n8.2 The double descent phenomenon . . . . . . . . . . . . . . . . . 121\\n8.3 Sample complexity bounds (optional readings) . . . . . . . . . 126\\n\\n72\\n6.7 Regularization and the non-separable case\\n(optional reading)\\nThe derivation of the SVM as presented so far assumed that the data is\\nlinearly separable. While mapping data to a high dimensional feature space\\nvia φ does generally increase the likelihood that the data is separable, we\\ncan’t guarantee that it always will be so. Also, in some cases it is not clear\\nthat ﬁnding a separating hyperplane is exactly what we’d want to do, since\\nthat might be susceptible to outliers. For instance, the left ﬁgure below\\nshows an optimal margin classiﬁer, and when a single outlier is added in the\\nupper-left region (right ﬁgure), it causes the decision boundary to make a\\ndramatic swing, and the resulting classiﬁer has a much smaller margin.\\nTo make the algorithm work for non-linearly separable datasets as well\\nas be less sensitive to outliers, we reformulate our optimization (using ℓ1\\nregularization) as follows:\\nminγ,w,b\\n1\\n2||w||2 + C\\nn∑\\ni=1\\nξi\\ns.t. y(i)(wTx(i) + b) ≥1 −ξi, i = 1,...,n\\nξi ≥0, i = 1,...,n.\\nThus, examples are now permitted to have (functional) margin less than 1,\\nand if an example has functional margin 1 −ξi (with ξ >0), we would pay\\na cost of the objective function being increased by Cξi. The parameter C\\ncontrols the relative weighting between the twin goals of making the ||w||2\\nsmall (which we saw earlier makes the margin large) and of ensuring that\\nmost examples have functional margin at least 1.', name='retrieve_info_from_paper', id='c9f737d4-4fb7-4417-a6b3-c06fee427587', tool_call_id='call_mMt8BmVnZsSloka6DrMuWPCm')]}\n",
      "'\\n---\\n'\n"
     ]
    }
   ],
   "source": [
    "import pprint\n",
    "inputs = {\n",
    "    \"messages\":[\n",
    "        ('user','In these notes, can you explain the SVM? ')\n",
    "    ]\n",
    "}\n",
    "for output in compiled_graph.stream(inputs):\n",
    "    for key, value in output.items():\n",
    "        pprint.pprint(\"Output from node '{key}\")\n",
    "        pprint.pprint(\"---------\")\n",
    "        pprint.pprint(value, indent=2, width=80, depth=None)\n",
    "\n",
    "    pprint.pprint(\"\\n---\\n\")"
   ]
  },
  {
   "cell_type": "code",
   "execution_count": 25,
   "metadata": {},
   "outputs": [
    {
     "data": {
      "text/plain": [
       "'Chapter 6\\nSupport vector machines\\nThis set of notes presents the Support Vector Machine (SVM) learning al-\\ngorithm. SVMs are among the best (and many believe are indeed the best)\\n“oﬀ-the-shelf” supervised learning algorithms. To tell the SVM story, we’ll\\nneed to ﬁrst talk about margins and the idea of separating data with a large\\n“gap.” Next, we’ll talk about the optimal margin classiﬁer, which will lead\\nus into a digression on Lagrange duality. We’ll also see kernels, which give\\na way to apply SVMs eﬃciently in very high dimensional (such as inﬁnite-\\ndimensional) feature spaces, and ﬁnally, we’ll close oﬀ the story with the\\nSMO algorithm, which gives an eﬃcient implementation of SVMs.\\n6.1 Margins: intuition\\nWe’ll start our story on SVMs by talking about margins. This section will\\ngive the intuitions about margins and about the “conﬁdence” of our predic-\\ntions; these ideas will be made formal in Section 6.3.\\nConsider logistic regression, where the probability p(y = 1|x; θ) is mod-\\neled by hθ(x) = g(θTx). We then predict “1” on an input x if and only if\\nhθ(x) ≥0.5, or equivalently, if and only if θTx ≥0. Consider a positive\\ntraining example (y= 1). The larger θTxis, the larger also is hθ(x) = p(y=\\n1|x; θ), and thus also the higher our degree of “conﬁdence” that the label is 1.\\nThus, informally we can think of our prediction as being very conﬁdent that\\ny = 1 if θTx ≫0. Similarly, we think of logistic regression as conﬁdently\\npredicting y= 0, if θTx≪0. Given a training set, again informally it seems\\nthat we’d have found a good ﬁt to the training data if we can ﬁnd θ so that\\nθTx(i) ≫0 whenever y(i) = 1, and θTx(i) ≪0 whenever y(i) = 0, since this\\nwould reﬂect a very conﬁdent (and correct) set of classiﬁcations for all the\\n59\\n\\n58\\nApplication of kernel methods: We’ve seen the application of kernels\\nto linear regression. In the next part, we will introduce the support vector\\nmachines to which kernels can be directly applied. dwell too much longer on\\nit here. In fact, the idea of kernels has signiﬁcantly broader applicability than\\nlinear regression and SVMs. Speciﬁcally, if you have any learning algorithm\\nthat you can write in terms of only inner products ⟨x,z⟩between input\\nattribute vectors, then by replacing this with K(x,z) where K is a kernel,\\nyou can “magically” allow your algorithm to work eﬃciently in the high\\ndimensional feature space corresponding to K. For instance, this kernel trick\\ncan be applied with the perceptron to derive a kernel perceptron algorithm.\\nMany of the algorithms that we’ll see later in this class will also be amenable\\nto this method, which has come to be known as the “kernel trick.”\\n\\nCS229 Spring 20223 2\\n5 Kernel methods 48\\n5.1 Feature maps . . . . . . . . . . . . . . . . . . . . . . . . . . . 48\\n5.2 LMS (least mean squares) with features . . . . . . . . . . . . . 49\\n5.3 LMS with the kernel trick . . . . . . . . . . . . . . . . . . . . 49\\n5.4 Properties of kernels . . . . . . . . . . . . . . . . . . . . . . . 53\\n6 Support vector machines 59\\n6.1 Margins: intuition . . . . . . . . . . . . . . . . . . . . . . . . . 59\\n6.2 Notation (option reading) . . . . . . . . . . . . . . . . . . . . 61\\n6.3 Functional and geometric margins (option reading) . . . . . . 61\\n6.4 The optimal margin classiﬁer (option reading) . . . . . . . . . 63\\n6.5 Lagrange duality (optional reading) . . . . . . . . . . . . . . . 65\\n6.6 Optimal margin classiﬁers: the dual form (option reading) . . 68\\n6.7 Regularization and the non-separable case (optional reading) . 72\\n6.8 The SMO algorithm (optional reading) . . . . . . . . . . . . . 73\\n6.8.1 Coordinate ascent . . . . . . . . . . . . . . . . . . . . . 74\\n6.8.2 SMO . . . . . . . . . . . . . . . . . . . . . . . . . . . . 75\\nII Deep learning 79\\n7 Deep learning 80\\n7.1 Supervised learning with non-linear models . . . . . . . . . . . 80\\n7.2 Neural networks . . . . . . . . . . . . . . . . . . . . . . . . . . 84\\n7.3 Modules in Modern Neural Networks . . . . . . . . . . . . . . 92\\n7.4 Backpropagation . . . . . . . . . . . . . . . . . . . . . . . . . 98\\n7.4.1 Preliminaries on partial derivatives . . . . . . . . . . . 99\\n7.4.2 General strategy of backpropagation . . . . . . . . . . 102\\n7.4.3 Backward functions for basic modules . . . . . . . . . . 105\\n7.4.4 Back-propagation for MLPs . . . . . . . . . . . . . . . 107\\n7.5 Vectorization over training examples . . . . . . . . . . . . . . 109\\nIII Generalization and regularization 112\\n8 Generalization 113\\n8.1 Bias-variance tradeoﬀ . . . . . . . . . . . . . . . . . . . . . . . 115\\n8.1.1 A mathematical decomposition (for regression) . . . . . 120\\n8.2 The double descent phenomenon . . . . . . . . . . . . . . . . . 121\\n8.3 Sample complexity bounds (optional readings) . . . . . . . . . 126\\n\\n72\\n6.7 Regularization and the non-separable case\\n(optional reading)\\nThe derivation of the SVM as presented so far assumed that the data is\\nlinearly separable. While mapping data to a high dimensional feature space\\nvia φ does generally increase the likelihood that the data is separable, we\\ncan’t guarantee that it always will be so. Also, in some cases it is not clear\\nthat ﬁnding a separating hyperplane is exactly what we’d want to do, since\\nthat might be susceptible to outliers. For instance, the left ﬁgure below\\nshows an optimal margin classiﬁer, and when a single outlier is added in the\\nupper-left region (right ﬁgure), it causes the decision boundary to make a\\ndramatic swing, and the resulting classiﬁer has a much smaller margin.\\nTo make the algorithm work for non-linearly separable datasets as well\\nas be less sensitive to outliers, we reformulate our optimization (using ℓ1\\nregularization) as follows:\\nminγ,w,b\\n1\\n2||w||2 + C\\nn∑\\ni=1\\nξi\\ns.t. y(i)(wTx(i) + b) ≥1 −ξi, i = 1,...,n\\nξi ≥0, i = 1,...,n.\\nThus, examples are now permitted to have (functional) margin less than 1,\\nand if an example has functional margin 1 −ξi (with ξ >0), we would pay\\na cost of the objective function being increased by Cξi. The parameter C\\ncontrols the relative weighting between the twin goals of making the ||w||2\\nsmall (which we saw earlier makes the margin large) and of ensuring that\\nmost examples have functional margin at least 1.'"
      ]
     },
     "execution_count": 25,
     "metadata": {},
     "output_type": "execute_result"
    }
   ],
   "source": [
    "inputs = {\n",
    "    \"messages\":[\n",
    "        ('user','In these notes, can you explain the SVM? ')\n",
    "    ]\n",
    "}\n",
    "output = compiled_graph.invoke(inputs)\n",
    "\n",
    "output['messages'][-1].content"
   ]
  },
  {
   "cell_type": "code",
   "execution_count": 26,
   "metadata": {},
   "outputs": [
    {
     "data": {
      "text/plain": [
       "\"Gradient descent is an optimization algorithm commonly used in machine learning and statistics to minimize a function by iteratively moving towards the steepest descent as defined by the negative of the gradient. Here’s a detailed explanation of the concept:\\n\\n### 1. **Objective Function**\\nIn machine learning, we often want to minimize a cost function (also known as a loss function) that measures how well our model is performing. The objective function can be represented as \\\\( J(\\\\theta) \\\\), where \\\\( \\\\theta \\\\) represents the parameters of the model.\\n\\n### 2. **Gradient**\\nThe gradient of the function \\\\( J(\\\\theta) \\\\) is a vector of partial derivatives. It points in the direction of the steepest ascent of the function. To minimize the function, we need to move in the opposite direction of the gradient.\\n\\nMathematically, the gradient is defined as:\\n\\\\[\\n\\\\nabla J(\\\\theta) = \\\\left( \\\\frac{\\\\partial J}{\\\\partial \\\\theta_1}, \\\\frac{\\\\partial J}{\\\\partial \\\\theta_2}, \\\\ldots, \\\\frac{\\\\partial J}{\\\\partial \\\\theta_n} \\\\right)\\n\\\\]\\n\\n### 3. **Update Rule**\\nThe update rule for gradient descent is given by:\\n\\\\[\\n\\\\theta := \\\\theta - \\\\alpha \\\\nabla J(\\\\theta)\\n\\\\]\\nwhere:\\n- \\\\( \\\\theta \\\\) is the parameter vector.\\n- \\\\( \\\\alpha \\\\) is the learning rate, a hyperparameter that determines the size of the steps we take towards the minimum.\\n\\n### 4. **Learning Rate**\\nThe learning rate \\\\( \\\\alpha \\\\) is crucial:\\n- If \\\\( \\\\alpha \\\\) is too small, the convergence will be slow.\\n- If \\\\( \\\\alpha \\\\) is too large, we might overshoot the minimum and diverge.\\n\\n### 5. **Types of Gradient Descent**\\nThere are several variations of gradient descent:\\n\\n- **Batch Gradient Descent**: Uses the entire dataset to compute the gradient. This can be computationally expensive for large datasets.\\n  \\n- **Stochastic Gradient Descent (SGD)**: Uses only one data point to compute the gradient at each iteration. This introduces noise into the optimization process but can lead to faster convergence.\\n\\n- **Mini-batch Gradient Descent**: A compromise between batch and stochastic gradient descent, it uses a small random subset of the data to compute the gradient.\\n\\n### 6. **Convergence**\\nThe algorithm iteratively updates the parameters until convergence, which can be defined in several ways:\\n- The change in the cost function is below a certain threshold.\\n- The change in parameters is below a certain threshold.\\n- A maximum number of iterations is reached.\\n\\n### 7. **Challenges**\\n- **Local Minima**: Gradient descent can get stuck in local minima, especially in non-convex functions.\\n- **Saddle Points**: Points where the gradient is zero but are not minima can also slow down convergence.\\n- **Choosing the Right Learning Rate**: A poor choice can lead to slow convergence or divergence.\\n\\n### 8. **Advanced Techniques**\\nTo improve gradient descent, several techniques can be employed:\\n- **Momentum**: Helps accelerate gradients vectors in the right directions, thus leading to faster converging.\\n- **Adaptive Learning Rates**: Algorithms like AdaGrad, RMSprop, and Adam adjust the learning rate based on the parameters' updates.\\n\\n### 9. **Applications**\\nGradient descent is widely used in training machine learning models, including linear regression, logistic regression, neural networks, and many other algorithms.\\n\\n### Conclusion\\nGradient descent is a fundamental algorithm in optimization and machine learning, enabling models to learn from data by minimizing the cost function. Understanding its mechanics, variations, and challenges is crucial for effectively applying it in practice.\""
      ]
     },
     "execution_count": 26,
     "metadata": {},
     "output_type": "execute_result"
    }
   ],
   "source": [
    "inputs = {\n",
    "    \"messages\":[\n",
    "        ('user',' Explain gradient descent in detail?')\n",
    "    ]\n",
    "}\n",
    "output = compiled_graph.invoke(inputs)\n",
    "\n",
    "output['messages'][-1].content"
   ]
  },
  {
   "cell_type": "code",
   "execution_count": null,
   "metadata": {},
   "outputs": [],
   "source": []
  }
 ],
 "metadata": {
  "kernelspec": {
   "display_name": "langchain",
   "language": "python",
   "name": "python3"
  },
  "language_info": {
   "codemirror_mode": {
    "name": "ipython",
    "version": 3
   },
   "file_extension": ".py",
   "mimetype": "text/x-python",
   "name": "python",
   "nbconvert_exporter": "python",
   "pygments_lexer": "ipython3",
   "version": "3.9.20"
  }
 },
 "nbformat": 4,
 "nbformat_minor": 2
}
