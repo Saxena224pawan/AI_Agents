{
 "cells": [
  {
   "cell_type": "code",
   "execution_count": 2,
   "metadata": {},
   "outputs": [],
   "source": [
    "import warnings\n",
    "\n",
    "warnings.filterwarnings(\"ignore\")"
   ]
  },
  {
   "cell_type": "code",
   "execution_count": 3,
   "metadata": {},
   "outputs": [],
   "source": [
    "import os\n",
    "import yaml\n",
    "\n",
    "# Load the YAML file\n",
    "def load_api_key(yml_file):\n",
    "    with open(yml_file, 'r') as file:\n",
    "        config = yaml.safe_load(file)  # Safely load the YAML file\n",
    "        return config.get('openai_key')  # Retrieve the 'api_key'\n",
    "\n",
    "# Usage\n",
    "\n",
    "os.environ['OPENAI_API_KEY'] =load_api_key('chatgpt_api_credentials.yml')"
   ]
  },
  {
   "cell_type": "code",
   "execution_count": 4,
   "metadata": {},
   "outputs": [
    {
     "data": {
      "text/plain": [
       "ChatPromptTemplate(input_variables=['agent_scratchpad', 'input'], optional_variables=['chat_history'], input_types={'chat_history': list[typing.Annotated[typing.Union[typing.Annotated[langchain_core.messages.ai.AIMessage, Tag(tag='ai')], typing.Annotated[langchain_core.messages.human.HumanMessage, Tag(tag='human')], typing.Annotated[langchain_core.messages.chat.ChatMessage, Tag(tag='chat')], typing.Annotated[langchain_core.messages.system.SystemMessage, Tag(tag='system')], typing.Annotated[langchain_core.messages.function.FunctionMessage, Tag(tag='function')], typing.Annotated[langchain_core.messages.tool.ToolMessage, Tag(tag='tool')], typing.Annotated[langchain_core.messages.ai.AIMessageChunk, Tag(tag='AIMessageChunk')], typing.Annotated[langchain_core.messages.human.HumanMessageChunk, Tag(tag='HumanMessageChunk')], typing.Annotated[langchain_core.messages.chat.ChatMessageChunk, Tag(tag='ChatMessageChunk')], typing.Annotated[langchain_core.messages.system.SystemMessageChunk, Tag(tag='SystemMessageChunk')], typing.Annotated[langchain_core.messages.function.FunctionMessageChunk, Tag(tag='FunctionMessageChunk')], typing.Annotated[langchain_core.messages.tool.ToolMessageChunk, Tag(tag='ToolMessageChunk')]], FieldInfo(annotation=NoneType, required=True, discriminator=Discriminator(discriminator=<function _get_type at 0x000001BAB4DD0DC0>, custom_error_type=None, custom_error_message=None, custom_error_context=None))]], 'agent_scratchpad': list[typing.Annotated[typing.Union[typing.Annotated[langchain_core.messages.ai.AIMessage, Tag(tag='ai')], typing.Annotated[langchain_core.messages.human.HumanMessage, Tag(tag='human')], typing.Annotated[langchain_core.messages.chat.ChatMessage, Tag(tag='chat')], typing.Annotated[langchain_core.messages.system.SystemMessage, Tag(tag='system')], typing.Annotated[langchain_core.messages.function.FunctionMessage, Tag(tag='function')], typing.Annotated[langchain_core.messages.tool.ToolMessage, Tag(tag='tool')], typing.Annotated[langchain_core.messages.ai.AIMessageChunk, Tag(tag='AIMessageChunk')], typing.Annotated[langchain_core.messages.human.HumanMessageChunk, Tag(tag='HumanMessageChunk')], typing.Annotated[langchain_core.messages.chat.ChatMessageChunk, Tag(tag='ChatMessageChunk')], typing.Annotated[langchain_core.messages.system.SystemMessageChunk, Tag(tag='SystemMessageChunk')], typing.Annotated[langchain_core.messages.function.FunctionMessageChunk, Tag(tag='FunctionMessageChunk')], typing.Annotated[langchain_core.messages.tool.ToolMessageChunk, Tag(tag='ToolMessageChunk')]], FieldInfo(annotation=NoneType, required=True, discriminator=Discriminator(discriminator=<function _get_type at 0x000001BAB4DD0DC0>, custom_error_type=None, custom_error_message=None, custom_error_context=None))]]}, partial_variables={'chat_history': []}, metadata={'lc_hub_owner': 'hwchase17', 'lc_hub_repo': 'openai-tools-agent', 'lc_hub_commit_hash': 'c18672812789a3b9697656dd539edf0120285dcae36396d0b548ae42a4ed66f5'}, messages=[SystemMessagePromptTemplate(prompt=PromptTemplate(input_variables=[], input_types={}, partial_variables={}, template='You are a helpful assistant'), additional_kwargs={}), MessagesPlaceholder(variable_name='chat_history', optional=True), HumanMessagePromptTemplate(prompt=PromptTemplate(input_variables=['input'], input_types={}, partial_variables={}, template='{input}'), additional_kwargs={}), MessagesPlaceholder(variable_name='agent_scratchpad')])"
      ]
     },
     "execution_count": 4,
     "metadata": {},
     "output_type": "execute_result"
    }
   ],
   "source": [
    "from langchain import hub\n",
    "\n",
    "prompt_agent = hub.pull('hwchase17/openai-tools-agent')\n",
    "prompt_agent"
   ]
  },
  {
   "cell_type": "code",
   "execution_count": 5,
   "metadata": {},
   "outputs": [
    {
     "data": {
      "text/plain": [
       "AIMessage(content='Hello! How can I assist you today?', additional_kwargs={'refusal': None}, response_metadata={'token_usage': {'completion_tokens': 10, 'prompt_tokens': 8, 'total_tokens': 18, 'completion_tokens_details': {'accepted_prediction_tokens': 0, 'audio_tokens': 0, 'reasoning_tokens': 0, 'rejected_prediction_tokens': 0}, 'prompt_tokens_details': {'audio_tokens': 0, 'cached_tokens': 0}}, 'model_name': 'gpt-4o-mini-2024-07-18', 'system_fingerprint': 'fp_d02d531b47', 'finish_reason': 'stop', 'logprobs': None}, id='run-b031553a-219a-48fb-bc2e-c0f3f681b12e-0', usage_metadata={'input_tokens': 8, 'output_tokens': 10, 'total_tokens': 18, 'input_token_details': {'audio': 0, 'cache_read': 0}, 'output_token_details': {'audio': 0, 'reasoning': 0}})"
      ]
     },
     "execution_count": 5,
     "metadata": {},
     "output_type": "execute_result"
    }
   ],
   "source": [
    "from langchain_openai import ChatOpenAI\n",
    "\n",
    "llm = ChatOpenAI(model='gpt-4o-mini', temperature= 0)\n",
    "\n",
    "llm.invoke('Hi')"
   ]
  },
  {
   "cell_type": "markdown",
   "metadata": {},
   "source": [
    "Agent = LLM + Tools"
   ]
  },
  {
   "cell_type": "code",
   "execution_count": 6,
   "metadata": {},
   "outputs": [],
   "source": [
    "import subprocess\n",
    "from langchain_core.tools import tool\n",
    "\n",
    "@tool\n",
    "def list_files():\n",
    "    \"\"\"\n",
    "    List files in the current directory.\n",
    "    \"\"\"\n",
    "    try:\n",
    "        # Check if the current directory exists\n",
    "        current_dir = os.getcwd()\n",
    "        items = os.listdir(current_dir)\n",
    "\n",
    "        # Separate files and folders\n",
    "        files = [f for f in items if os.path.isfile(os.path.join(current_dir, f))]\n",
    "        folders = [f for f in items if os.path.isdir(os.path.join(current_dir, f))]\n",
    "\n",
    "        # Format the response\n",
    "        response = \"\"\n",
    "        if folders:\n",
    "            response += \"Folders:\\n\" + \"\\n\".join(folders) + \"\\n\\n\"\n",
    "        if files:\n",
    "            response += \"Files:\\n\" + \"\\n\".join(files) + \"\\n\"\n",
    "\n",
    "        if not response:\n",
    "            response = \"The current directory is empty.\"\n",
    "\n",
    "        return response\n",
    "    except Exception as e:\n",
    "        return f\"An error occurred: {str(e)}\""
   ]
  },
  {
   "cell_type": "code",
   "execution_count": 7,
   "metadata": {},
   "outputs": [
    {
     "data": {
      "text/plain": [
       "'Folders:\\n.git\\n\\nFiles:\\n.gitignore\\n1.0_Intro_To_Langchain.ipynb\\n1.1_Hands_on_simple_chains.ipynb\\n1.2_LCEL_and_runnables.ipynb\\n1.3_langchain_simple_agent.ipynb\\nchatgpt_api_credentials.yml\\nLICENSE\\nREADME.md\\n'"
      ]
     },
     "execution_count": 7,
     "metadata": {},
     "output_type": "execute_result"
    }
   ],
   "source": [
    "list_files.invoke({\"input\":\"\"})\n",
    "\n"
   ]
  },
  {
   "cell_type": "code",
   "execution_count": 8,
   "metadata": {},
   "outputs": [],
   "source": [
    "llm_with_tool = llm.bind_tools([list_files])"
   ]
  },
  {
   "cell_type": "code",
   "execution_count": 9,
   "metadata": {},
   "outputs": [
    {
     "data": {
      "text/plain": [
       "RunnableBinding(bound=ChatOpenAI(client=<openai.resources.chat.completions.Completions object at 0x000001BABA5ED100>, async_client=<openai.resources.chat.completions.AsyncCompletions object at 0x000001BABA5FC2B0>, root_client=<openai.OpenAI object at 0x000001BAB6719E20>, root_async_client=<openai.AsyncOpenAI object at 0x000001BABA5ED160>, model_name='gpt-4o-mini', temperature=0.0, model_kwargs={}, openai_api_key=SecretStr('**********')), kwargs={'tools': [{'type': 'function', 'function': {'name': 'list_files', 'description': 'List files in the current directory.', 'parameters': {'properties': {}, 'type': 'object'}}}]}, config={}, config_factories=[])"
      ]
     },
     "execution_count": 9,
     "metadata": {},
     "output_type": "execute_result"
    }
   ],
   "source": [
    "llm_with_tool"
   ]
  },
  {
   "cell_type": "code",
   "execution_count": 10,
   "metadata": {},
   "outputs": [
    {
     "name": "stdout",
     "output_type": "stream",
     "text": [
      "Folders:\n",
      ".git\n",
      "\n",
      "Files:\n",
      ".gitignore\n",
      "1.0_Intro_To_Langchain.ipynb\n",
      "1.1_Hands_on_simple_chains.ipynb\n",
      "1.2_LCEL_and_runnables.ipynb\n",
      "1.3_langchain_simple_agent.ipynb\n",
      "chatgpt_api_credentials.yml\n",
      "LICENSE\n",
      "README.md\n",
      "\n"
     ]
    }
   ],
   "source": [
    "dictionary_with_tool_names ={\n",
    "    \"list_files\":list_files\n",
    "}\n",
    "\n",
    "output = llm_with_tool.invoke(\"List files in current directory\")\n",
    "\n",
    "if output.tool_calls:\n",
    "    for tool_call in output.tool_calls:\n",
    "        tool_name = tool_call['name']\n",
    "        tool_args = tool_call['args']\n",
    "        tool_func = dictionary_with_tool_names[tool_name]\n",
    "        print(tool_func.invoke(tool_args))"
   ]
  },
  {
   "cell_type": "markdown",
   "metadata": {},
   "source": [
    "**Agent = LLM + Tools**"
   ]
  },
  {
   "cell_type": "code",
   "execution_count": 11,
   "metadata": {},
   "outputs": [],
   "source": [
    "from langchain.agents import create_tool_calling_agent, AgentExecutor\n"
   ]
  },
  {
   "cell_type": "code",
   "execution_count": 12,
   "metadata": {},
   "outputs": [],
   "source": [
    "tools = [list_files]\n",
    "\n",
    "agent = create_tool_calling_agent(llm, tools, prompt_agent)\n",
    "\n",
    "agent_executor = AgentExecutor(agent =agent, tools = tools, verbose=True)"
   ]
  },
  {
   "cell_type": "code",
   "execution_count": 13,
   "metadata": {},
   "outputs": [
    {
     "name": "stdout",
     "output_type": "stream",
     "text": [
      "\n",
      "\n",
      "\u001b[1m> Entering new AgentExecutor chain...\u001b[0m\n",
      "\u001b[32;1m\u001b[1;3m\n",
      "Invoking: `list_files` with `{}`\n",
      "\n",
      "\n",
      "\u001b[0m\u001b[36;1m\u001b[1;3mFolders:\n",
      ".git\n",
      "\n",
      "Files:\n",
      ".gitignore\n",
      "1.0_Intro_To_Langchain.ipynb\n",
      "1.1_Hands_on_simple_chains.ipynb\n",
      "1.2_LCEL_and_runnables.ipynb\n",
      "1.3_langchain_simple_agent.ipynb\n",
      "chatgpt_api_credentials.yml\n",
      "LICENSE\n",
      "README.md\n",
      "\u001b[0m\u001b[32;1m\u001b[1;3mHere are the files in the current directory:\n",
      "\n",
      "### Folders:\n",
      "- .git\n",
      "\n",
      "### Files:\n",
      "- .gitignore\n",
      "- 1.0_Intro_To_Langchain.ipynb\n",
      "- 1.1_Hands_on_simple_chains.ipynb\n",
      "- 1.2_LCEL_and_runnables.ipynb\n",
      "- 1.3_langchain_simple_agent.ipynb\n",
      "- chatgpt_api_credentials.yml\n",
      "- LICENSE\n",
      "- README.md\u001b[0m\n",
      "\n",
      "\u001b[1m> Finished chain.\u001b[0m\n"
     ]
    },
    {
     "data": {
      "text/plain": [
       "{'input': 'List files in current directory',\n",
       " 'output': 'Here are the files in the current directory:\\n\\n### Folders:\\n- .git\\n\\n### Files:\\n- .gitignore\\n- 1.0_Intro_To_Langchain.ipynb\\n- 1.1_Hands_on_simple_chains.ipynb\\n- 1.2_LCEL_and_runnables.ipynb\\n- 1.3_langchain_simple_agent.ipynb\\n- chatgpt_api_credentials.yml\\n- LICENSE\\n- README.md'}"
      ]
     },
     "execution_count": 13,
     "metadata": {},
     "output_type": "execute_result"
    }
   ],
   "source": [
    "agent_executor.invoke({'input': 'List files in current directory'})"
   ]
  },
  {
   "cell_type": "code",
   "execution_count": 14,
   "metadata": {},
   "outputs": [
    {
     "name": "stdout",
     "output_type": "stream",
     "text": [
      "\n",
      "\n",
      "\u001b[1m> Entering new AgentExecutor chain...\u001b[0m\n",
      "\u001b[32;1m\u001b[1;3m\n",
      "Invoking: `list_files` with `{}`\n",
      "\n",
      "\n",
      "\u001b[0m\u001b[36;1m\u001b[1;3mFolders:\n",
      ".git\n",
      "\n",
      "Files:\n",
      ".gitignore\n",
      "1.0_Intro_To_Langchain.ipynb\n",
      "1.1_Hands_on_simple_chains.ipynb\n",
      "1.2_LCEL_and_runnables.ipynb\n",
      "1.3_langchain_simple_agent.ipynb\n",
      "chatgpt_api_credentials.yml\n",
      "LICENSE\n",
      "README.md\n",
      "\u001b[0m\u001b[32;1m\u001b[1;3mIn the current directory, there are the following files and folders:\n",
      "\n",
      "### Folders:\n",
      "- `.git`\n",
      "\n",
      "### Files:\n",
      "- `.gitignore`\n",
      "- `1.0_Intro_To_Langchain.ipynb`\n",
      "- `1.1_Hands_on_simple_chains.ipynb`\n",
      "- `1.2_LCEL_and_runnables.ipynb`\n",
      "- `1.3_langchain_simple_agent.ipynb`\n",
      "- `chatgpt_api_credentials.yml`\n",
      "- `LICENSE`\n",
      "- `README.md`\u001b[0m\n",
      "\n",
      "\u001b[1m> Finished chain.\u001b[0m\n"
     ]
    },
    {
     "data": {
      "text/plain": [
       "{'input': 'What kind of files are in current directory?',\n",
       " 'output': 'In the current directory, there are the following files and folders:\\n\\n### Folders:\\n- `.git`\\n\\n### Files:\\n- `.gitignore`\\n- `1.0_Intro_To_Langchain.ipynb`\\n- `1.1_Hands_on_simple_chains.ipynb`\\n- `1.2_LCEL_and_runnables.ipynb`\\n- `1.3_langchain_simple_agent.ipynb`\\n- `chatgpt_api_credentials.yml`\\n- `LICENSE`\\n- `README.md`'}"
      ]
     },
     "execution_count": 14,
     "metadata": {},
     "output_type": "execute_result"
    }
   ],
   "source": [
    "agent_executor.invoke({'input': 'What kind of files are in current directory?'})"
   ]
  },
  {
   "cell_type": "markdown",
   "metadata": {},
   "source": [
    "#### TAVILY SEARCH AGENT"
   ]
  },
  {
   "cell_type": "code",
   "execution_count": 15,
   "metadata": {},
   "outputs": [],
   "source": [
    "# !pip install langchain-community"
   ]
  },
  {
   "cell_type": "code",
   "execution_count": 16,
   "metadata": {},
   "outputs": [],
   "source": [
    "from langchain_community.tools import TavilySearchResults"
   ]
  },
  {
   "cell_type": "code",
   "execution_count": null,
   "metadata": {},
   "outputs": [],
   "source": [
    "import os\n",
    "import yaml\n",
    "\n",
    "# Load the YAML file\n",
    "def load_api_key(yml_file):\n",
    "    with open(yml_file, 'r') as file:\n",
    "        config = yaml.safe_load(file)  # Safely load the YAML file\n",
    "        return config.get('tavily_key')  # Retrieve the 'api_key'\n",
    "\n",
    "# Usage\n",
    "\n",
    "os.environ['TAVILY_API_KEY'] =load_api_key('tavily_api_key.yml')"
   ]
  }
 ],
 "metadata": {
  "kernelspec": {
   "display_name": "langchain",
   "language": "python",
   "name": "python3"
  },
  "language_info": {
   "codemirror_mode": {
    "name": "ipython",
    "version": 3
   },
   "file_extension": ".py",
   "mimetype": "text/x-python",
   "name": "python",
   "nbconvert_exporter": "python",
   "pygments_lexer": "ipython3",
   "version": "3.9.20"
  }
 },
 "nbformat": 4,
 "nbformat_minor": 2
}
