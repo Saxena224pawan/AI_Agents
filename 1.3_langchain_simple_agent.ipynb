{
 "cells": [
  {
   "cell_type": "code",
   "execution_count": 2,
   "metadata": {},
   "outputs": [],
   "source": [
    "import warnings\n",
    "\n",
    "warnings.filterwarnings(\"ignore\")"
   ]
  },
  {
   "cell_type": "code",
   "execution_count": 3,
   "metadata": {},
   "outputs": [],
   "source": [
    "import os\n",
    "import yaml\n",
    "\n",
    "# Load the YAML file\n",
    "def load_api_key(yml_file):\n",
    "    with open(yml_file, 'r') as file:\n",
    "        config = yaml.safe_load(file)  # Safely load the YAML file\n",
    "        return config.get('openai_key')  # Retrieve the 'api_key'\n",
    "\n",
    "# Usage\n",
    "\n",
    "os.environ['OPENAI_API_KEY'] =load_api_key('chatgpt_api_credentials.yml')"
   ]
  },
  {
   "cell_type": "code",
   "execution_count": 4,
   "metadata": {},
   "outputs": [
    {
     "data": {
      "text/plain": [
       "ChatPromptTemplate(input_variables=['agent_scratchpad', 'input'], optional_variables=['chat_history'], input_types={'chat_history': list[typing.Annotated[typing.Union[typing.Annotated[langchain_core.messages.ai.AIMessage, Tag(tag='ai')], typing.Annotated[langchain_core.messages.human.HumanMessage, Tag(tag='human')], typing.Annotated[langchain_core.messages.chat.ChatMessage, Tag(tag='chat')], typing.Annotated[langchain_core.messages.system.SystemMessage, Tag(tag='system')], typing.Annotated[langchain_core.messages.function.FunctionMessage, Tag(tag='function')], typing.Annotated[langchain_core.messages.tool.ToolMessage, Tag(tag='tool')], typing.Annotated[langchain_core.messages.ai.AIMessageChunk, Tag(tag='AIMessageChunk')], typing.Annotated[langchain_core.messages.human.HumanMessageChunk, Tag(tag='HumanMessageChunk')], typing.Annotated[langchain_core.messages.chat.ChatMessageChunk, Tag(tag='ChatMessageChunk')], typing.Annotated[langchain_core.messages.system.SystemMessageChunk, Tag(tag='SystemMessageChunk')], typing.Annotated[langchain_core.messages.function.FunctionMessageChunk, Tag(tag='FunctionMessageChunk')], typing.Annotated[langchain_core.messages.tool.ToolMessageChunk, Tag(tag='ToolMessageChunk')]], FieldInfo(annotation=NoneType, required=True, discriminator=Discriminator(discriminator=<function _get_type at 0x000001BAB4DD0DC0>, custom_error_type=None, custom_error_message=None, custom_error_context=None))]], 'agent_scratchpad': list[typing.Annotated[typing.Union[typing.Annotated[langchain_core.messages.ai.AIMessage, Tag(tag='ai')], typing.Annotated[langchain_core.messages.human.HumanMessage, Tag(tag='human')], typing.Annotated[langchain_core.messages.chat.ChatMessage, Tag(tag='chat')], typing.Annotated[langchain_core.messages.system.SystemMessage, Tag(tag='system')], typing.Annotated[langchain_core.messages.function.FunctionMessage, Tag(tag='function')], typing.Annotated[langchain_core.messages.tool.ToolMessage, Tag(tag='tool')], typing.Annotated[langchain_core.messages.ai.AIMessageChunk, Tag(tag='AIMessageChunk')], typing.Annotated[langchain_core.messages.human.HumanMessageChunk, Tag(tag='HumanMessageChunk')], typing.Annotated[langchain_core.messages.chat.ChatMessageChunk, Tag(tag='ChatMessageChunk')], typing.Annotated[langchain_core.messages.system.SystemMessageChunk, Tag(tag='SystemMessageChunk')], typing.Annotated[langchain_core.messages.function.FunctionMessageChunk, Tag(tag='FunctionMessageChunk')], typing.Annotated[langchain_core.messages.tool.ToolMessageChunk, Tag(tag='ToolMessageChunk')]], FieldInfo(annotation=NoneType, required=True, discriminator=Discriminator(discriminator=<function _get_type at 0x000001BAB4DD0DC0>, custom_error_type=None, custom_error_message=None, custom_error_context=None))]]}, partial_variables={'chat_history': []}, metadata={'lc_hub_owner': 'hwchase17', 'lc_hub_repo': 'openai-tools-agent', 'lc_hub_commit_hash': 'c18672812789a3b9697656dd539edf0120285dcae36396d0b548ae42a4ed66f5'}, messages=[SystemMessagePromptTemplate(prompt=PromptTemplate(input_variables=[], input_types={}, partial_variables={}, template='You are a helpful assistant'), additional_kwargs={}), MessagesPlaceholder(variable_name='chat_history', optional=True), HumanMessagePromptTemplate(prompt=PromptTemplate(input_variables=['input'], input_types={}, partial_variables={}, template='{input}'), additional_kwargs={}), MessagesPlaceholder(variable_name='agent_scratchpad')])"
      ]
     },
     "execution_count": 4,
     "metadata": {},
     "output_type": "execute_result"
    }
   ],
   "source": [
    "from langchain import hub\n",
    "\n",
    "prompt_agent = hub.pull('hwchase17/openai-tools-agent')\n",
    "prompt_agent"
   ]
  },
  {
   "cell_type": "code",
   "execution_count": 5,
   "metadata": {},
   "outputs": [
    {
     "data": {
      "text/plain": [
       "AIMessage(content='Hello! How can I assist you today?', additional_kwargs={'refusal': None}, response_metadata={'token_usage': {'completion_tokens': 10, 'prompt_tokens': 8, 'total_tokens': 18, 'completion_tokens_details': {'accepted_prediction_tokens': 0, 'audio_tokens': 0, 'reasoning_tokens': 0, 'rejected_prediction_tokens': 0}, 'prompt_tokens_details': {'audio_tokens': 0, 'cached_tokens': 0}}, 'model_name': 'gpt-4o-mini-2024-07-18', 'system_fingerprint': 'fp_d02d531b47', 'finish_reason': 'stop', 'logprobs': None}, id='run-b031553a-219a-48fb-bc2e-c0f3f681b12e-0', usage_metadata={'input_tokens': 8, 'output_tokens': 10, 'total_tokens': 18, 'input_token_details': {'audio': 0, 'cache_read': 0}, 'output_token_details': {'audio': 0, 'reasoning': 0}})"
      ]
     },
     "execution_count": 5,
     "metadata": {},
     "output_type": "execute_result"
    }
   ],
   "source": [
    "from langchain_openai import ChatOpenAI\n",
    "\n",
    "llm = ChatOpenAI(model='gpt-4o-mini', temperature= 0)\n",
    "\n",
    "llm.invoke('Hi')"
   ]
  },
  {
   "cell_type": "markdown",
   "metadata": {},
   "source": [
    "Agent = LLM + Tools"
   ]
  },
  {
   "cell_type": "code",
   "execution_count": 6,
   "metadata": {},
   "outputs": [],
   "source": [
    "import subprocess\n",
    "from langchain_core.tools import tool\n",
    "\n",
    "@tool\n",
    "def list_files():\n",
    "    \"\"\"\n",
    "    List files in the current directory.\n",
    "    \"\"\"\n",
    "    try:\n",
    "        # Check if the current directory exists\n",
    "        current_dir = os.getcwd()\n",
    "        items = os.listdir(current_dir)\n",
    "\n",
    "        # Separate files and folders\n",
    "        files = [f for f in items if os.path.isfile(os.path.join(current_dir, f))]\n",
    "        folders = [f for f in items if os.path.isdir(os.path.join(current_dir, f))]\n",
    "\n",
    "        # Format the response\n",
    "        response = \"\"\n",
    "        if folders:\n",
    "            response += \"Folders:\\n\" + \"\\n\".join(folders) + \"\\n\\n\"\n",
    "        if files:\n",
    "            response += \"Files:\\n\" + \"\\n\".join(files) + \"\\n\"\n",
    "\n",
    "        if not response:\n",
    "            response = \"The current directory is empty.\"\n",
    "\n",
    "        return response\n",
    "    except Exception as e:\n",
    "        return f\"An error occurred: {str(e)}\""
   ]
  },
  {
   "cell_type": "code",
   "execution_count": 7,
   "metadata": {},
   "outputs": [
    {
     "data": {
      "text/plain": [
       "'Folders:\\n.git\\n\\nFiles:\\n.gitignore\\n1.0_Intro_To_Langchain.ipynb\\n1.1_Hands_on_simple_chains.ipynb\\n1.2_LCEL_and_runnables.ipynb\\n1.3_langchain_simple_agent.ipynb\\nchatgpt_api_credentials.yml\\nLICENSE\\nREADME.md\\n'"
      ]
     },
     "execution_count": 7,
     "metadata": {},
     "output_type": "execute_result"
    }
   ],
   "source": [
    "list_files.invoke({\"input\":\"\"})\n",
    "\n"
   ]
  },
  {
   "cell_type": "code",
   "execution_count": 8,
   "metadata": {},
   "outputs": [],
   "source": [
    "llm_with_tool = llm.bind_tools([list_files])"
   ]
  },
  {
   "cell_type": "code",
   "execution_count": 9,
   "metadata": {},
   "outputs": [
    {
     "data": {
      "text/plain": [
       "RunnableBinding(bound=ChatOpenAI(client=<openai.resources.chat.completions.Completions object at 0x000001BABA5ED100>, async_client=<openai.resources.chat.completions.AsyncCompletions object at 0x000001BABA5FC2B0>, root_client=<openai.OpenAI object at 0x000001BAB6719E20>, root_async_client=<openai.AsyncOpenAI object at 0x000001BABA5ED160>, model_name='gpt-4o-mini', temperature=0.0, model_kwargs={}, openai_api_key=SecretStr('**********')), kwargs={'tools': [{'type': 'function', 'function': {'name': 'list_files', 'description': 'List files in the current directory.', 'parameters': {'properties': {}, 'type': 'object'}}}]}, config={}, config_factories=[])"
      ]
     },
     "execution_count": 9,
     "metadata": {},
     "output_type": "execute_result"
    }
   ],
   "source": [
    "llm_with_tool"
   ]
  },
  {
   "cell_type": "code",
   "execution_count": 10,
   "metadata": {},
   "outputs": [
    {
     "name": "stdout",
     "output_type": "stream",
     "text": [
      "Folders:\n",
      ".git\n",
      "\n",
      "Files:\n",
      ".gitignore\n",
      "1.0_Intro_To_Langchain.ipynb\n",
      "1.1_Hands_on_simple_chains.ipynb\n",
      "1.2_LCEL_and_runnables.ipynb\n",
      "1.3_langchain_simple_agent.ipynb\n",
      "chatgpt_api_credentials.yml\n",
      "LICENSE\n",
      "README.md\n",
      "\n"
     ]
    }
   ],
   "source": [
    "dictionary_with_tool_names ={\n",
    "    \"list_files\":list_files\n",
    "}\n",
    "\n",
    "output = llm_with_tool.invoke(\"List files in current directory\")\n",
    "\n",
    "if output.tool_calls:\n",
    "    for tool_call in output.tool_calls:\n",
    "        tool_name = tool_call['name']\n",
    "        tool_args = tool_call['args']\n",
    "        tool_func = dictionary_with_tool_names[tool_name]\n",
    "        print(tool_func.invoke(tool_args))"
   ]
  },
  {
   "cell_type": "markdown",
   "metadata": {},
   "source": [
    "**Agent = LLM + Tools**"
   ]
  },
  {
   "cell_type": "code",
   "execution_count": 11,
   "metadata": {},
   "outputs": [],
   "source": [
    "from langchain.agents import create_tool_calling_agent, AgentExecutor\n"
   ]
  },
  {
   "cell_type": "code",
   "execution_count": 12,
   "metadata": {},
   "outputs": [],
   "source": [
    "tools = [list_files]\n",
    "\n",
    "agent = create_tool_calling_agent(llm, tools, prompt_agent)\n",
    "\n",
    "agent_executor = AgentExecutor(agent =agent, tools = tools, verbose=True)"
   ]
  },
  {
   "cell_type": "code",
   "execution_count": 13,
   "metadata": {},
   "outputs": [
    {
     "name": "stdout",
     "output_type": "stream",
     "text": [
      "\n",
      "\n",
      "\u001b[1m> Entering new AgentExecutor chain...\u001b[0m\n",
      "\u001b[32;1m\u001b[1;3m\n",
      "Invoking: `list_files` with `{}`\n",
      "\n",
      "\n",
      "\u001b[0m\u001b[36;1m\u001b[1;3mFolders:\n",
      ".git\n",
      "\n",
      "Files:\n",
      ".gitignore\n",
      "1.0_Intro_To_Langchain.ipynb\n",
      "1.1_Hands_on_simple_chains.ipynb\n",
      "1.2_LCEL_and_runnables.ipynb\n",
      "1.3_langchain_simple_agent.ipynb\n",
      "chatgpt_api_credentials.yml\n",
      "LICENSE\n",
      "README.md\n",
      "\u001b[0m\u001b[32;1m\u001b[1;3mHere are the files in the current directory:\n",
      "\n",
      "### Folders:\n",
      "- .git\n",
      "\n",
      "### Files:\n",
      "- .gitignore\n",
      "- 1.0_Intro_To_Langchain.ipynb\n",
      "- 1.1_Hands_on_simple_chains.ipynb\n",
      "- 1.2_LCEL_and_runnables.ipynb\n",
      "- 1.3_langchain_simple_agent.ipynb\n",
      "- chatgpt_api_credentials.yml\n",
      "- LICENSE\n",
      "- README.md\u001b[0m\n",
      "\n",
      "\u001b[1m> Finished chain.\u001b[0m\n"
     ]
    },
    {
     "data": {
      "text/plain": [
       "{'input': 'List files in current directory',\n",
       " 'output': 'Here are the files in the current directory:\\n\\n### Folders:\\n- .git\\n\\n### Files:\\n- .gitignore\\n- 1.0_Intro_To_Langchain.ipynb\\n- 1.1_Hands_on_simple_chains.ipynb\\n- 1.2_LCEL_and_runnables.ipynb\\n- 1.3_langchain_simple_agent.ipynb\\n- chatgpt_api_credentials.yml\\n- LICENSE\\n- README.md'}"
      ]
     },
     "execution_count": 13,
     "metadata": {},
     "output_type": "execute_result"
    }
   ],
   "source": [
    "agent_executor.invoke({'input': 'List files in current directory'})"
   ]
  },
  {
   "cell_type": "code",
   "execution_count": 14,
   "metadata": {},
   "outputs": [
    {
     "name": "stdout",
     "output_type": "stream",
     "text": [
      "\n",
      "\n",
      "\u001b[1m> Entering new AgentExecutor chain...\u001b[0m\n",
      "\u001b[32;1m\u001b[1;3m\n",
      "Invoking: `list_files` with `{}`\n",
      "\n",
      "\n",
      "\u001b[0m\u001b[36;1m\u001b[1;3mFolders:\n",
      ".git\n",
      "\n",
      "Files:\n",
      ".gitignore\n",
      "1.0_Intro_To_Langchain.ipynb\n",
      "1.1_Hands_on_simple_chains.ipynb\n",
      "1.2_LCEL_and_runnables.ipynb\n",
      "1.3_langchain_simple_agent.ipynb\n",
      "chatgpt_api_credentials.yml\n",
      "LICENSE\n",
      "README.md\n",
      "\u001b[0m\u001b[32;1m\u001b[1;3mIn the current directory, there are the following files and folders:\n",
      "\n",
      "### Folders:\n",
      "- `.git`\n",
      "\n",
      "### Files:\n",
      "- `.gitignore`\n",
      "- `1.0_Intro_To_Langchain.ipynb`\n",
      "- `1.1_Hands_on_simple_chains.ipynb`\n",
      "- `1.2_LCEL_and_runnables.ipynb`\n",
      "- `1.3_langchain_simple_agent.ipynb`\n",
      "- `chatgpt_api_credentials.yml`\n",
      "- `LICENSE`\n",
      "- `README.md`\u001b[0m\n",
      "\n",
      "\u001b[1m> Finished chain.\u001b[0m\n"
     ]
    },
    {
     "data": {
      "text/plain": [
       "{'input': 'What kind of files are in current directory?',\n",
       " 'output': 'In the current directory, there are the following files and folders:\\n\\n### Folders:\\n- `.git`\\n\\n### Files:\\n- `.gitignore`\\n- `1.0_Intro_To_Langchain.ipynb`\\n- `1.1_Hands_on_simple_chains.ipynb`\\n- `1.2_LCEL_and_runnables.ipynb`\\n- `1.3_langchain_simple_agent.ipynb`\\n- `chatgpt_api_credentials.yml`\\n- `LICENSE`\\n- `README.md`'}"
      ]
     },
     "execution_count": 14,
     "metadata": {},
     "output_type": "execute_result"
    }
   ],
   "source": [
    "agent_executor.invoke({'input': 'What kind of files are in current directory?'})"
   ]
  },
  {
   "cell_type": "markdown",
   "metadata": {},
   "source": [
    "#### TAVILY SEARCH AGENT"
   ]
  },
  {
   "cell_type": "code",
   "execution_count": 15,
   "metadata": {},
   "outputs": [],
   "source": [
    "# !pip install langchain-community"
   ]
  },
  {
   "cell_type": "code",
   "execution_count": 16,
   "metadata": {},
   "outputs": [],
   "source": [
    "from langchain_community.tools import TavilySearchResults"
   ]
  },
  {
   "cell_type": "code",
   "execution_count": 17,
   "metadata": {},
   "outputs": [],
   "source": [
    "import os\n",
    "import yaml\n",
    "\n",
    "# Load the YAML file\n",
    "def load_api_key(yml_file):\n",
    "    with open(yml_file, 'r') as file:\n",
    "        config = yaml.safe_load(file)  # Safely load the YAML file\n",
    "        return config.get('tavily_key')  # Retrieve the 'api_key'\n",
    "\n",
    "# Usage\n",
    "\n",
    "os.environ['TAVILY_API_KEY'] =load_api_key('tavily_api_key.yml')"
   ]
  },
  {
   "cell_type": "code",
   "execution_count": 18,
   "metadata": {},
   "outputs": [
    {
     "data": {
      "text/plain": [
       "[{'url': 'https://www.mapsofworld.com/marshall-islands/facts.html',\n",
       "  'content': 'What is the capital of Marshall Islands? Majuro is the capital of the Marshall Islands. It is a large coral atoll comprising sixty-four islands in the Pacific Ocean. Covering an area of 3.7 square miles and with an estimated population of 25,400, it is the largest city of the Republic of the Marshall Islands.'},\n",
       " {'url': 'https://en.wikipedia.org/wiki/Majuro',\n",
       "  'content': 'Majuro (/ ˈ m æ dʒ ər oʊ /; Marshallese: Mājro [mʲæzʲ(e)rˠo] [1]) is the capital and largest city of the Marshall Islands.It is also a large coral atoll of 64 islands in the Pacific Ocean.It forms a legislative district of the Ratak (Sunrise) Chain of the Marshall Islands. The atoll has a land area of 9.7 square kilometers (3.7 sq mi) and encloses a lagoon of 295 square kilometers'},\n",
       " {'url': 'https://www.mappr.co/capital-cities/marshall-islands/',\n",
       "  'content': 'Majuro is the capital of the Marshall Islands. The atoll is renowned for its vast lagoon, rich marine life, and blending of traditional Marshallese culture with modern amenities. The map of Marshall Islands, with Majuro, marked as the capital. It is a large coral atoll of 64 islands in the Pacific Ocean.'},\n",
       " {'url': 'https://www.worldatlas.com/articles/what-is-the-capital-of-the-marshall-islands.html',\n",
       "  'content': 'Majuro is the capital city of the Marshall Islands. The city is geographically a large coral atoll consisting of 64 islands. Majuro is located in the Pacific Ocean and occupies a land area of 9.7 square km. The lagoon enclosed by Majuro encompasses an area of 295 square km. The city is served by an international airport and a port.'},\n",
       " {'url': 'https://www.countryreports.org/country/MarshallIslands/capital-city.htm',\n",
       "  'content': 'Majuro; note - the capital is an atoll of 64 islands; governmental buildings are housed on three fused islands on the eastern side of the atoll: Djarrit, Uliga, and Delap ... Capital City Map of Marshall Islands. Source: Google Maps. Weather in Marshall Islands. Back to Marshall Islands Government.'}]"
      ]
     },
     "execution_count": 18,
     "metadata": {},
     "output_type": "execute_result"
    }
   ],
   "source": [
    "search_tool = TavilySearchResults(\n",
    "    max_results= 5,\n",
    "    search_depth=\"advanced\",\n",
    "    include_answer= True,\n",
    ")\n",
    "\n",
    "search_tool.invoke('What is the capital of Maarshall Island?')"
   ]
  },
  {
   "cell_type": "markdown",
   "metadata": {},
   "source": [
    "How do we transform the invocation from the model with the tool into an actual invocation of the tool that performs the action?"
   ]
  },
  {
   "cell_type": "code",
   "execution_count": 19,
   "metadata": {},
   "outputs": [],
   "source": [
    "@tool\n",
    "def create_file(file_path:str, content:str):\n",
    "    \"\"\"Create a file with given content\n",
    "\n",
    "    Args:\n",
    "        file_path (str): _description_\n",
    "        content (str): _description_\n",
    "    \"\"\"\n",
    "    with open(file_path, 'w') as f:\n",
    "        f.write(content)\n",
    "    return f\"File Created at {file_path} with content: {content}\""
   ]
  },
  {
   "cell_type": "code",
   "execution_count": 20,
   "metadata": {},
   "outputs": [],
   "source": [
    "tools = [create_file, search_tool]"
   ]
  },
  {
   "cell_type": "code",
   "execution_count": 22,
   "metadata": {},
   "outputs": [],
   "source": [
    "simple_research_agent=create_tool_calling_agent(llm, tools, prompt_agent)\n",
    "\n",
    "simple_research_agent_executor = AgentExecutor(agent = simple_research_agent, tools=tools, verbose=True )"
   ]
  },
  {
   "cell_type": "code",
   "execution_count": 23,
   "metadata": {},
   "outputs": [
    {
     "data": {
      "text/plain": [
       "AgentExecutor(verbose=True, agent=RunnableMultiActionAgent(runnable=RunnableAssign(mapper={\n",
       "  agent_scratchpad: RunnableLambda(lambda x: message_formatter(x['intermediate_steps']))\n",
       "})\n",
       "| ChatPromptTemplate(input_variables=['agent_scratchpad', 'input'], optional_variables=['chat_history'], input_types={'chat_history': list[typing.Annotated[typing.Union[typing.Annotated[langchain_core.messages.ai.AIMessage, Tag(tag='ai')], typing.Annotated[langchain_core.messages.human.HumanMessage, Tag(tag='human')], typing.Annotated[langchain_core.messages.chat.ChatMessage, Tag(tag='chat')], typing.Annotated[langchain_core.messages.system.SystemMessage, Tag(tag='system')], typing.Annotated[langchain_core.messages.function.FunctionMessage, Tag(tag='function')], typing.Annotated[langchain_core.messages.tool.ToolMessage, Tag(tag='tool')], typing.Annotated[langchain_core.messages.ai.AIMessageChunk, Tag(tag='AIMessageChunk')], typing.Annotated[langchain_core.messages.human.HumanMessageChunk, Tag(tag='HumanMessageChunk')], typing.Annotated[langchain_core.messages.chat.ChatMessageChunk, Tag(tag='ChatMessageChunk')], typing.Annotated[langchain_core.messages.system.SystemMessageChunk, Tag(tag='SystemMessageChunk')], typing.Annotated[langchain_core.messages.function.FunctionMessageChunk, Tag(tag='FunctionMessageChunk')], typing.Annotated[langchain_core.messages.tool.ToolMessageChunk, Tag(tag='ToolMessageChunk')]], FieldInfo(annotation=NoneType, required=True, discriminator=Discriminator(discriminator=<function _get_type at 0x000001BAB4DD0DC0>, custom_error_type=None, custom_error_message=None, custom_error_context=None))]], 'agent_scratchpad': list[typing.Annotated[typing.Union[typing.Annotated[langchain_core.messages.ai.AIMessage, Tag(tag='ai')], typing.Annotated[langchain_core.messages.human.HumanMessage, Tag(tag='human')], typing.Annotated[langchain_core.messages.chat.ChatMessage, Tag(tag='chat')], typing.Annotated[langchain_core.messages.system.SystemMessage, Tag(tag='system')], typing.Annotated[langchain_core.messages.function.FunctionMessage, Tag(tag='function')], typing.Annotated[langchain_core.messages.tool.ToolMessage, Tag(tag='tool')], typing.Annotated[langchain_core.messages.ai.AIMessageChunk, Tag(tag='AIMessageChunk')], typing.Annotated[langchain_core.messages.human.HumanMessageChunk, Tag(tag='HumanMessageChunk')], typing.Annotated[langchain_core.messages.chat.ChatMessageChunk, Tag(tag='ChatMessageChunk')], typing.Annotated[langchain_core.messages.system.SystemMessageChunk, Tag(tag='SystemMessageChunk')], typing.Annotated[langchain_core.messages.function.FunctionMessageChunk, Tag(tag='FunctionMessageChunk')], typing.Annotated[langchain_core.messages.tool.ToolMessageChunk, Tag(tag='ToolMessageChunk')]], FieldInfo(annotation=NoneType, required=True, discriminator=Discriminator(discriminator=<function _get_type at 0x000001BAB4DD0DC0>, custom_error_type=None, custom_error_message=None, custom_error_context=None))]]}, partial_variables={'chat_history': []}, metadata={'lc_hub_owner': 'hwchase17', 'lc_hub_repo': 'openai-tools-agent', 'lc_hub_commit_hash': 'c18672812789a3b9697656dd539edf0120285dcae36396d0b548ae42a4ed66f5'}, messages=[SystemMessagePromptTemplate(prompt=PromptTemplate(input_variables=[], input_types={}, partial_variables={}, template='You are a helpful assistant'), additional_kwargs={}), MessagesPlaceholder(variable_name='chat_history', optional=True), HumanMessagePromptTemplate(prompt=PromptTemplate(input_variables=['input'], input_types={}, partial_variables={}, template='{input}'), additional_kwargs={}), MessagesPlaceholder(variable_name='agent_scratchpad')])\n",
       "| RunnableBinding(bound=ChatOpenAI(client=<openai.resources.chat.completions.Completions object at 0x000001BABA5ED100>, async_client=<openai.resources.chat.completions.AsyncCompletions object at 0x000001BABA5FC2B0>, root_client=<openai.OpenAI object at 0x000001BAB6719E20>, root_async_client=<openai.AsyncOpenAI object at 0x000001BABA5ED160>, model_name='gpt-4o-mini', temperature=0.0, model_kwargs={}, openai_api_key=SecretStr('**********')), kwargs={'tools': [{'type': 'function', 'function': {'name': 'create_file', 'description': 'Create a file with given content\\n\\n    Args:\\n        file_path (str): _description_\\n        content (str): _description_', 'parameters': {'properties': {'file_path': {'type': 'string'}, 'content': {'type': 'string'}}, 'required': ['file_path', 'content'], 'type': 'object'}}}, {'type': 'function', 'function': {'name': 'tavily_search_results_json', 'description': 'A search engine optimized for comprehensive, accurate, and trusted results. Useful for when you need to answer questions about current events. Input should be a search query.', 'parameters': {'properties': {'query': {'description': 'search query to look up', 'type': 'string'}}, 'required': ['query'], 'type': 'object'}}}]}, config={}, config_factories=[])\n",
       "| ToolsAgentOutputParser(), input_keys_arg=[], return_keys_arg=[], stream_runnable=True), tools=[StructuredTool(name='create_file', description='Create a file with given content\\n\\n    Args:\\n        file_path (str): _description_\\n        content (str): _description_', args_schema=<class 'langchain_core.utils.pydantic.create_file'>, func=<function create_file at 0x000001BAD0FEE790>), TavilySearchResults(include_answer=True, api_wrapper=TavilySearchAPIWrapper(tavily_api_key=SecretStr('**********')))])"
      ]
     },
     "execution_count": 23,
     "metadata": {},
     "output_type": "execute_result"
    }
   ],
   "source": [
    "simple_research_agent_executor"
   ]
  },
  {
   "cell_type": "code",
   "execution_count": null,
   "metadata": {},
   "outputs": [
    {
     "name": "stdout",
     "output_type": "stream",
     "text": [
      "\n",
      "\n",
      "\u001b[1m> Entering new AgentExecutor chain...\u001b[0m\n",
      "\u001b[32;1m\u001b[1;3m\n",
      "Invoking: `create_file` with `{'file_path': '2024_year.md', 'content': '# Summary Report for the Year 2024\\n\\n## Economic Overview\\n- The global economy showed signs of recovery post-pandemic, with GDP growth rates improving in many countries.\\n- Inflation rates remained a concern, prompting central banks to adjust interest rates accordingly.\\n- Technological advancements continued to drive productivity, particularly in sectors like AI, renewable energy, and healthcare.\\n\\n## Political Landscape\\n- Several key elections took place worldwide, influencing international relations and domestic policies.\\n- Climate change remained a central issue, with countries committing to more aggressive targets for carbon neutrality.\\n- Geopolitical tensions persisted in various regions, affecting trade and security.\\n\\n## Social Developments\\n- The ongoing effects of the pandemic led to shifts in work culture, with remote and hybrid work models becoming more prevalent.\\n- Mental health awareness increased, with more resources allocated to support mental well-being.\\n- Social movements advocating for equality and justice gained momentum, influencing public policy and corporate practices.\\n\\n## Technological Innovations\\n- Breakthroughs in AI and machine learning transformed industries, enhancing efficiency and creating new opportunities.\\n- The push for sustainable technologies accelerated, with significant investments in green energy and electric vehicles.\\n- Cybersecurity became a top priority for businesses and governments, responding to increasing threats and data breaches.\\n\\n## Environmental Concerns\\n- Extreme weather events highlighted the urgency of addressing climate change, prompting global discussions on sustainability.\\n- Initiatives for biodiversity conservation gained traction, with various countries implementing protective measures.\\n- Renewable energy sources saw significant growth, contributing to a decrease in reliance on fossil fuels.\\n\\n## Conclusion\\nThe year 2024 was marked by significant changes across various sectors, driven by economic recovery, technological advancements, and a heightened awareness of social and environmental issues. The global community faced challenges but also embraced opportunities for growth and improvement.'}`\n",
      "\n",
      "\n",
      "\u001b[0m\u001b[36;1m\u001b[1;3mFile Created at 2024_year.md with content: # Summary Report for the Year 2024\n",
      "\n",
      "## Economic Overview\n",
      "- The global economy showed signs of recovery post-pandemic, with GDP growth rates improving in many countries.\n",
      "- Inflation rates remained a concern, prompting central banks to adjust interest rates accordingly.\n",
      "- Technological advancements continued to drive productivity, particularly in sectors like AI, renewable energy, and healthcare.\n",
      "\n",
      "## Political Landscape\n",
      "- Several key elections took place worldwide, influencing international relations and domestic policies.\n",
      "- Climate change remained a central issue, with countries committing to more aggressive targets for carbon neutrality.\n",
      "- Geopolitical tensions persisted in various regions, affecting trade and security.\n",
      "\n",
      "## Social Developments\n",
      "- The ongoing effects of the pandemic led to shifts in work culture, with remote and hybrid work models becoming more prevalent.\n",
      "- Mental health awareness increased, with more resources allocated to support mental well-being.\n",
      "- Social movements advocating for equality and justice gained momentum, influencing public policy and corporate practices.\n",
      "\n",
      "## Technological Innovations\n",
      "- Breakthroughs in AI and machine learning transformed industries, enhancing efficiency and creating new opportunities.\n",
      "- The push for sustainable technologies accelerated, with significant investments in green energy and electric vehicles.\n",
      "- Cybersecurity became a top priority for businesses and governments, responding to increasing threats and data breaches.\n",
      "\n",
      "## Environmental Concerns\n",
      "- Extreme weather events highlighted the urgency of addressing climate change, prompting global discussions on sustainability.\n",
      "- Initiatives for biodiversity conservation gained traction, with various countries implementing protective measures.\n",
      "- Renewable energy sources saw significant growth, contributing to a decrease in reliance on fossil fuels.\n",
      "\n",
      "## Conclusion\n",
      "The year 2024 was marked by significant changes across various sectors, driven by economic recovery, technological advancements, and a heightened awareness of social and environmental issues. The global community faced challenges but also embraced opportunities for growth and improvement.\u001b[0m\u001b[32;1m\u001b[1;3mThe summary report for the year 2024 has been successfully created and saved in the file `2024_year.md`. If you need any further modifications or additional information, feel free to ask!\u001b[0m\n",
      "\n",
      "\u001b[1m> Finished chain.\u001b[0m\n"
     ]
    }
   ],
   "source": [
    "output_report =  simple_research_agent_executor.invoke({'input': 'Write a summarize report on year 2024 and put that into 2024_year.md'})"
   ]
  },
  {
   "cell_type": "code",
   "execution_count": 27,
   "metadata": {},
   "outputs": [
    {
     "data": {
      "text/markdown": [
       "The summary report for the year 2024 has been successfully created and saved in the file `2024_year.md`. If you need any further modifications or additional information, feel free to ask!"
      ],
      "text/plain": [
       "<IPython.core.display.Markdown object>"
      ]
     },
     "execution_count": 27,
     "metadata": {},
     "output_type": "execute_result"
    }
   ],
   "source": [
    "from IPython.display import Markdown\n",
    "Markdown(output_report['output'])\n"
   ]
  },
  {
   "cell_type": "code",
   "execution_count": 28,
   "metadata": {},
   "outputs": [
    {
     "data": {
      "text/markdown": [
       "# Summary Report for the Year 2024\n",
       "\n",
       "## Economic Overview\n",
       "- The global economy showed signs of recovery post-pandemic, with GDP growth rates improving in many countries.\n",
       "- Inflation rates remained a concern, prompting central banks to adjust interest rates accordingly.\n",
       "- Technological advancements continued to drive productivity, particularly in sectors like AI, renewable energy, and healthcare.\n",
       "\n",
       "## Political Landscape\n",
       "- Several key elections took place worldwide, influencing international relations and domestic policies.\n",
       "- Climate change remained a central issue, with countries committing to more aggressive targets for carbon neutrality.\n",
       "- Geopolitical tensions persisted in various regions, affecting trade and security.\n",
       "\n",
       "## Social Developments\n",
       "- The ongoing effects of the pandemic led to shifts in work culture, with remote and hybrid work models becoming more prevalent.\n",
       "- Mental health awareness increased, with more resources allocated to support mental well-being.\n",
       "- Social movements advocating for equality and justice gained momentum, influencing public policy and corporate practices.\n",
       "\n",
       "## Technological Innovations\n",
       "- Breakthroughs in AI and machine learning transformed industries, enhancing efficiency and creating new opportunities.\n",
       "- The push for sustainable technologies accelerated, with significant investments in green energy and electric vehicles.\n",
       "- Cybersecurity became a top priority for businesses and governments, responding to increasing threats and data breaches.\n",
       "\n",
       "## Environmental Concerns\n",
       "- Extreme weather events highlighted the urgency of addressing climate change, prompting global discussions on sustainability.\n",
       "- Initiatives for biodiversity conservation gained traction, with various countries implementing protective measures.\n",
       "- Renewable energy sources saw significant growth, contributing to a decrease in reliance on fossil fuels.\n",
       "\n",
       "## Conclusion\n",
       "The year 2024 was marked by significant changes across various sectors, driven by economic recovery, technological advancements, and a heightened awareness of social and environmental issues. The global community faced challenges but also embraced opportunities for growth and improvement."
      ],
      "text/plain": [
       "<IPython.core.display.Markdown object>"
      ]
     },
     "execution_count": 28,
     "metadata": {},
     "output_type": "execute_result"
    }
   ],
   "source": [
    "with open('2024_year.md','r') as f:\n",
    "    content_report = f.read()\n",
    "\n",
    "Markdown(content_report)"
   ]
  },
  {
   "cell_type": "markdown",
   "metadata": {},
   "source": []
  }
 ],
 "metadata": {
  "kernelspec": {
   "display_name": "langchain",
   "language": "python",
   "name": "python3"
  },
  "language_info": {
   "codemirror_mode": {
    "name": "ipython",
    "version": 3
   },
   "file_extension": ".py",
   "mimetype": "text/x-python",
   "name": "python",
   "nbconvert_exporter": "python",
   "pygments_lexer": "ipython3",
   "version": "3.9.20"
  }
 },
 "nbformat": 4,
 "nbformat_minor": 2
}
